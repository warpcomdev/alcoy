{
 "cells": [
  {
   "cell_type": "code",
   "execution_count": null,
   "source": [
    "%pip install requests\n",
    "%pip install attrs\n",
    "%pip install python-dotenv\n",
    "%pip install shapely\n",
    "%pip install ipyleaflet\n",
    "%pip install limiter"
   ],
   "outputs": [],
   "metadata": {}
  },
  {
   "cell_type": "code",
   "execution_count": 1,
   "source": [
    "from dotenv import dotenv_values\n",
    "env = dotenv_values(\"urbiotica.env\")\n",
    "\n",
    "ENDPOINT = \"http://api.urbiotica.net/v2\"\n",
    "ORGANISM = env['ORGANISM']\n",
    "USERNAME = env['USERNAME']\n",
    "PASSWORD = env['PASSWORD']"
   ],
   "outputs": [],
   "metadata": {}
  },
  {
   "cell_type": "code",
   "execution_count": 2,
   "source": [
    "from datetime import datetime, timedelta, timezone\n",
    "from operator import itemgetter, attrgetter\n",
    "from typing import Dict, Mapping, Any, List, Generator, Iterator\n",
    "import math\n",
    "\n",
    "import attr\n",
    "from limiter import Limiter, get_limiter, limit_rate\n",
    "from orion import Session, ContextBroker\n",
    "\n",
    "JsonDict = Dict[str, Any]\n",
    "JsonList = List[JsonDict]\n",
    "\n",
    "@attr.s(auto_attribs=True)\n",
    "class Api(object):\n",
    "\n",
    "    endpoint: str\n",
    "    organism: str\n",
    "    token: str\n",
    "    bucket: Limiter\n",
    "\n",
    "    @classmethod\n",
    "    def login(cls, session: Session, endpoint: str, organism: str, username: str, password: str):\n",
    "        # API is rate limited to 100 requests per minute\n",
    "        bucket = get_limiter(rate = 100.0/60.0, capacity=100)\n",
    "        with limit_rate(bucket):\n",
    "            auth = session.get(f'{endpoint}/auth/{organism}/{username}/{password}')\n",
    "        if auth.status_code != 200:\n",
    "            raise ValueError('Invalid username of password')\n",
    "        return cls(endpoint, organism, auth.text.strip('\"'), bucket)\n",
    "\n",
    "    def projects(self, session: Session) -> Dict[str, 'Project']:\n",
    "        url = f'{self.endpoint}/organisms/{self.organism}/projects'\n",
    "        with limit_rate(self.bucket):\n",
    "            prj = session.get(url, headers={ 'IDENTITY_KEY': self.token })\n",
    "        if prj.status_code != 200:\n",
    "            raise ValueError(f'Failed to retrieve projects for organism {self.organism}')\n",
    "        return { item['projectid']: Project.new(self, item) for item in prj.json() }\n",
    "\n",
    "    def _query(self, session: Session, projectid: str, path: str, attrib: str, debug=False) -> JsonDict:\n",
    "        url = f'{self.endpoint}/organisms/{self.organism}/projects/{projectid}/{path}'\n",
    "        with limit_rate(self.bucket):\n",
    "            its = session.get(url, headers={ 'IDENTITY_KEY': self.token })\n",
    "        if its.status_code != 200:\n",
    "            raise ValueError(f'Failed to retrieve {path} for project {projectid}')\n",
    "        if debug:\n",
    "            print(\"JSON: \", its.json())\n",
    "        return { item[attrib]: item for item in its.json() }\n",
    "\n",
    "\n",
    "@attr.s(auto_attribs=True)\n",
    "class Project(object):\n",
    "\n",
    "    api: Api\n",
    "    projectid: str\n",
    "    name: str\n",
    "    description: str\n",
    "    timezone: str\n",
    "\n",
    "    @classmethod\n",
    "    def new(cls, api: Api, project: JsonDict):\n",
    "        return cls(api, project['projectid'], project['name'], project['description'], project['timezone'])\n",
    "\n",
    "    def parkings(self, session: Session) -> JsonDict:\n",
    "        return self.api._query(session, self.projectid, 'parkings', 'pomid')\n",
    "    \n",
    "    def zones(self, session: Session) -> JsonDict:\n",
    "        return self.api._query(session, self.projectid, 'zones', 'zoneid')\n",
    "    \n",
    "    def spots(self, session: Session) -> JsonDict:\n",
    "        return self.api._query(session, self.projectid, 'spots', 'pomid')\n",
    "\n",
    "    def devices(self, session: Session, zoneid: str) -> JsonDict:\n",
    "        return self.api._query(session, self.projectid, f'zones/{zoneid}/devices', 'elementid')\n",
    "\n",
    "    def rotations(self, session: Session, pomid: str, from_dt: datetime, to_dt: datetime) -> JsonList:\n",
    "        fromiso = datetime.isoformat(from_dt.replace(microsecond=0))\n",
    "        toiso = datetime.isoformat(to_dt.replace(microsecond=0))\n",
    "        result = dict()\n",
    "        poms = self.api._query(session, self.projectid, f'spots/{pomid}/rotations/finished/{fromiso}/{toiso}', 'pomid')\n",
    "        rotations = list(itertools.chain(*(({\n",
    "            'pomid': pom['pomid'],\n",
    "            'start': datetime.fromisoformat(item['start']),\n",
    "            'end': datetime.fromisoformat(item['end'])\n",
    "        } for item in pom['rotations']) for pom in poms.values())))\n",
    "        return Project._sortby(rotations, 'start')\n",
    "\n",
    "    def vehicles(self, session: Session, pomid: str, from_dt: datetime, to_dt: datetime) -> JsonList:\n",
    "        fromts = math.floor(from_dt.timestamp())\n",
    "        tots = math.ceil(to_dt.timestamp())+1\n",
    "        result = dict()\n",
    "        poms = self.api._query(session, self.projectid, f'spots/{pomid}/phenomenons/vehicle_ctrl?start={fromts}&end={tots}', 'pomid', True)\n",
    "        #poms = self.api._query(self.projectid, f'spots/{pomid}/phenomenons/vehicle_ctrl', 'pomid', True)\n",
    "        measurements = list(itertools.chain(*(({\n",
    "            'pomid': pom['pomid'],\n",
    "            'lstamp': datetime.fromtimestamp(int(item['lstamp']) // 1000, tz=timezone.utc),\n",
    "            'value': item['value']\n",
    "        } for item in pom['measurements']) for pom in poms.values())))\n",
    "        return Project._sortby(measurements, 'lstamp')\n",
    "\n",
    "    @staticmethod\n",
    "    def _sortby(items: JsonList, field: str) -> JsonList:\n",
    "        items.sort(key=itemgetter(field))\n",
    "        return items\n"
   ],
   "outputs": [],
   "metadata": {}
  },
  {
   "cell_type": "code",
   "execution_count": 3,
   "source": [
    "session = Session()\n",
    "api = Api.login(session, ENDPOINT, ORGANISM, USERNAME, PASSWORD)\n",
    "api.token"
   ],
   "outputs": [
    {
     "output_type": "execute_result",
     "data": {
      "text/plain": [
       "'6hZ7zSCVa80w2VJnQpP3bGkScxIiqtykma2ht8fkMGJGPw2g3UHLsynLrAiD9haG'"
      ]
     },
     "metadata": {},
     "execution_count": 3
    }
   ],
   "metadata": {}
  },
  {
   "cell_type": "code",
   "execution_count": 5,
   "source": [
    "from collections import defaultdict\n",
    "import itertools\n",
    "\n",
    "@attr.s(auto_attribs=True)\n",
    "class Timestamp(object):\n",
    "\n",
    "    date: datetime\n",
    "    events: List[str]\n",
    "\n",
    "    @classmethod\n",
    "    def new(cls, date: datetime, events: List[str]):\n",
    "        return cls(date, events)\n",
    "    \n",
    "    def __str__(self) -> str:\n",
    "        return \"\\n\".join(itertools.chain(\n",
    "            (self.date.isoformat(),),\n",
    "            (f'  {event}' for event in self.events)\n",
    "        ))\n",
    "\n",
    "@attr.s(auto_attribs=True)\n",
    "class Timeline(object):\n",
    "\n",
    "    events: JsonList\n",
    "\n",
    "    @classmethod\n",
    "    def new(cls, rotations: JsonList, vehicles: JsonList):\n",
    "        events: Dictionary[datetime, List[str]] = defaultdict(list)\n",
    "        estados = {\n",
    "            '0': 'ocupada',\n",
    "            '1': 'libre',\n",
    "            '-1': 'en estado desconocido',\n",
    "        }\n",
    "        for rotation in rotations:\n",
    "            events[rotation['start']].append(\"Comienza rotacion\")\n",
    "            events[rotation['end']].append(\"Termina rotacion de las %s\" % rotation['start'])\n",
    "        for vehicle in vehicles:\n",
    "            value = vehicle['value']\n",
    "            events[vehicle['lstamp']].append('Plaza %s (%s)' % (estados[value], value))\n",
    "        stamps = [ Timestamp.new(date, info) for date, info in events.items() ]\n",
    "        stamps.sort(key=attrgetter('date'))\n",
    "        return cls(stamps)\n",
    "    \n",
    "    def __str__(self) -> str:\n",
    "        return \"\\n\".join(str(event) for event in self.events)\n"
   ],
   "outputs": [],
   "metadata": {}
  },
  {
   "cell_type": "code",
   "execution_count": null,
   "source": [
    "for prjid, prj in api.projects(session).items():\n",
    "    for pomid, superpom in prj.parkings(session).items():\n",
    "        for pom in superpom['poms']:\n",
    "            now = datetime.now()\n",
    "            bef = now - timedelta(days=1)\n",
    "            rots = prj.rotations(session, pom['pomid'], bef, now)\n",
    "            vehi = prj.vehicles(session, pom['pomid'], bef, now)\n",
    "            print(vehi)\n",
    "            ts = Timeline.new(rots, vehi)\n",
    "            print(str(ts))\n",
    "            break\n",
    "        break\n",
    "    break\n"
   ],
   "outputs": [],
   "metadata": {
    "tags": []
   }
  },
  {
   "cell_type": "code",
   "execution_count": 73,
   "source": [
    "projects = api.projects(session)"
   ],
   "outputs": [
    {
     "output_type": "stream",
     "name": "stdout",
     "text": [
      "http://172.18.176.1:3128 \"GET http://api.urbiotica.net/v2/organisms/org387236/projects HTTP/1.1\" 200 193\n"
     ]
    }
   ],
   "metadata": {}
  },
  {
   "cell_type": "code",
   "execution_count": 74,
   "source": [
    "project0 = projects[tuple(projects.keys())[0]]"
   ],
   "outputs": [],
   "metadata": {}
  },
  {
   "cell_type": "code",
   "execution_count": 75,
   "source": [
    "import itertools\n",
    "\n",
    "parkings = project0.parkings(session)\n",
    "subpoms = [[pom['pomid'] for pom in parking['poms']] for parking in parkings.values()]\n",
    "parking_spots = frozenset(itertools.chain(*subpoms))\n",
    "parking_by_pom = dict()\n",
    "for parking in parkings.values():\n",
    "    for pom in parking['poms']:\n",
    "        parking_by_pom[pom['pomid']] = parking\n",
    "print(\"PARKINGS - SPOTS: \", parking_spots)"
   ],
   "outputs": [
    {
     "output_type": "stream",
     "name": "stdout",
     "text": [
      "http://172.18.176.1:3128 \"GET http://api.urbiotica.net/v2/organisms/org387236/projects/prj4dd9a3/parkings HTTP/1.1\" 200 15802\n",
      "PARKINGS - SPOTS:  frozenset({45866, 45867, 45868, 45869, 45870, 45871, 45872, 45873, 45874, 45875, 45876, 45877, 45878, 45879, 45880, 45881, 45882, 45883, 45884, 45885, 45886, 45887, 45888, 45889, 45890, 45891})\n"
     ]
    }
   ],
   "metadata": {}
  },
  {
   "cell_type": "code",
   "execution_count": 76,
   "source": [
    "zones = project0.zones(session)\n",
    "print(\"ZONES:\", zones)\n"
   ],
   "outputs": [
    {
     "output_type": "stream",
     "name": "stdout",
     "text": [
      "http://172.18.176.1:3128 \"GET http://api.urbiotica.net/v2/organisms/org387236/projects/prj4dd9a3/zones HTTP/1.1\" 200 255\n",
      "ZONES: {733: {'organismid': 'org387236', 'projectid': 'prj4dd9a3', 'zoneid': 733, 'description': 'CyD', 'lat_ne': 38.7057482126756, 'long_ne': -0.475437696205967, 'lat_sw': 38.6986483951214, 'long_sw': -0.482798040859641, 'epsg': '4326', 'image': 'prj4dd9a3_733.jpg', 'main_zone': False}}\n"
     ]
    }
   ],
   "metadata": {}
  },
  {
   "cell_type": "code",
   "execution_count": 77,
   "source": [
    "zone0 = zones[tuple(zones.keys())[0]]\n",
    "zone0"
   ],
   "outputs": [
    {
     "output_type": "execute_result",
     "data": {
      "text/plain": [
       "{'organismid': 'org387236',\n",
       " 'projectid': 'prj4dd9a3',\n",
       " 'zoneid': 733,\n",
       " 'description': 'CyD',\n",
       " 'lat_ne': 38.7057482126756,\n",
       " 'long_ne': -0.475437696205967,\n",
       " 'lat_sw': 38.6986483951214,\n",
       " 'long_sw': -0.482798040859641,\n",
       " 'epsg': '4326',\n",
       " 'image': 'prj4dd9a3_733.jpg',\n",
       " 'main_zone': False}"
      ]
     },
     "metadata": {},
     "execution_count": 77
    }
   ],
   "metadata": {}
  },
  {
   "cell_type": "code",
   "execution_count": 78,
   "source": [
    "devices = project0.devices(session, zone0['zoneid'])\n",
    "device_spots = frozenset(item['pomid'] for item in devices.values())\n",
    "print(\"DEVICES_POMS: \", device_spots)"
   ],
   "outputs": [
    {
     "output_type": "stream",
     "name": "stdout",
     "text": [
      "http://172.18.176.1:3128 \"GET http://api.urbiotica.net/v2/organisms/org387236/projects/prj4dd9a3/zones/733/devices HTTP/1.1\" 200 8452\n",
      "DEVICES_POMS:  frozenset({45866, 45867, 45868, 45869, 45870, 45871, 45872, 45873, 45874, 45875, 45876, 45877, 45878, 45879, 45880, 45881, 45882, 45883, 45884, 45885, 45886, 45887, 45888, 45889, 45890, 45891, 45892, 45893, 45894, 45895, 45896, 45897})\n"
     ]
    }
   ],
   "metadata": {}
  },
  {
   "cell_type": "code",
   "execution_count": 79,
   "source": [
    "spots = project0.spots(session)\n",
    "spot_ids = frozenset(item['pomid'] for item in spots.values())\n",
    "print(\"SPOTS:\", spot_ids)"
   ],
   "outputs": [
    {
     "output_type": "stream",
     "name": "stdout",
     "text": [
      "http://172.18.176.1:3128 \"GET http://api.urbiotica.net/v2/organisms/org387236/projects/prj4dd9a3/spots HTTP/1.1\" 200 6915\n",
      "SPOTS: frozenset({45866, 45867, 45868, 45869, 45870, 45871, 45872, 45873, 45874, 45875, 45876, 45877, 45878, 45879, 45880, 45881, 45882, 45883, 45884, 45885, 45886, 45887, 45888, 45889, 45890, 45891})\n"
     ]
    }
   ],
   "metadata": {}
  },
  {
   "cell_type": "code",
   "execution_count": 80,
   "source": [
    "spot0 = spots[tuple(spots.keys())[0]]\n",
    "spot1 = spots[tuple(spots.keys())[1]]\n",
    "print(\"SPOT 0: \", spot0)\n",
    "print(\"SPOT 1: \", spot1)\n",
    "device0 = devices[spot0['elementid']]\n",
    "print(\"DEVICE 0\", device0)\n",
    "parking0 = parking_by_pom[spot0['pomid']]\n",
    "print(\"PARKING 0: \", parking0)"
   ],
   "outputs": [
    {
     "output_type": "stream",
     "name": "stdout",
     "text": [
      "SPOT 0:  {'pomid': 45888, 'name': 'S-23', 'type': 'uspot', 'latitude': '38.7039574713965', 'longitude': '-0.477023949799113', 'attributes': [{'attributeid': 'algorithm_status', 'value': '0', 'last_update': 1625472336556}], 'elementid': '0100001b2c0afad4', 'status_location': 2, 'entity': 'spots'}\n",
      "SPOT 1:  {'pomid': 45889, 'name': 'S-24', 'type': 'uspot', 'latitude': '38.7040458009425', 'longitude': '-0.476922383447501', 'attributes': [{'attributeid': 'algorithm_status', 'value': '0', 'last_update': 1625470049078}], 'elementid': '0100001b2b245fbf', 'status_location': 2, 'entity': 'spots'}\n",
      "DEVICE 0 {'organismid': 'org387236', 'projectid': 'prj4dd9a3', 'zoneid': 733, 'pomid': 45888, 'name': 'S-23', 'elementid': '0100001b2c0afad4', 'status': {'status': 'up', 'lastseen': 1629127082302}, 'type': 'uspot', 'attributes': [{'attributeid': 'algorithm_status', 'value': '0', 'last_update': 1625472336556}]}\n",
      "PARKING 0:  {'pomid': 45898, 'name': 'CyD', 'type': 'uspot', 'latitude': '38.7020857751693', 'longitude': '-0.479182096112105', 'attributes': [{'attributeid': 'max_capacity', 'value': '26', 'last_update': 0}], 'poms': [{'pomid': 45888, 'name': 'S-23', 'type': 'uspot', 'latitude': '38.7039574713965', 'longitude': '-0.477023949799113', 'attributes': [{'attributeid': 'algorithm_status', 'value': '0', 'last_update': 1625472336556}], 'elementid': '0100001b2c0afad4', 'status_location': 2, 'entity': 'spots'}, {'pomid': 45889, 'name': 'S-24', 'type': 'uspot', 'latitude': '38.7040458009425', 'longitude': '-0.476922383447501', 'attributes': [{'attributeid': 'algorithm_status', 'value': '0', 'last_update': 1625470049078}], 'elementid': '0100001b2b245fbf', 'status_location': 2, 'entity': 'spots'}, {'pomid': 45890, 'name': 'S-25', 'type': 'uspot', 'latitude': '38.7045028269765', 'longitude': '-0.476394933608962', 'attributes': [{'attributeid': 'algorithm_status', 'value': '0', 'last_update': 1625473779852}], 'elementid': '0100001b2baca12b', 'status_location': 2, 'entity': 'spots'}, {'pomid': 45891, 'name': 'S-26', 'type': 'uspot', 'latitude': '38.7045483233505', 'longitude': '-0.476342616685345', 'attributes': [{'attributeid': 'algorithm_status', 'value': '0', 'last_update': 1625471705547}], 'elementid': '0100001b2ba93ab0', 'status_location': 2, 'entity': 'spots'}, {'pomid': 45866, 'name': 'S-01', 'type': 'uspot', 'latitude': '38.699623226988', 'longitude': '-0.482021575538852', 'attributes': [{'attributeid': 'algorithm_status', 'value': '0', 'last_update': 1625471163521}], 'elementid': '0100001b2c0f2bf5', 'status_location': 2, 'entity': 'spots'}, {'pomid': 45867, 'name': 'S-02', 'type': 'uspot', 'latitude': '38.6996655785243', 'longitude': '-0.481972881817549', 'attributes': [{'attributeid': 'algorithm_status', 'value': '0', 'last_update': 1625475197755}], 'elementid': '0100001b2b471f95', 'status_location': 2, 'entity': 'spots'}, {'pomid': 45868, 'name': 'S-03', 'type': 'uspot', 'latitude': '38.6997079390165', 'longitude': '-0.481924186573697', 'attributes': [{'attributeid': 'algorithm_status', 'value': '0', 'last_update': 1625472208064}], 'elementid': '0100001b2c24b5df', 'status_location': 2, 'entity': 'spots'}, {'pomid': 45869, 'name': 'S-04', 'type': 'uspot', 'latitude': '38.6997590231559', 'longitude': '-0.481865552517785', 'attributes': [{'attributeid': 'algorithm_status', 'value': '0', 'last_update': 1625471365163}], 'elementid': '0100001b2b49eaae', 'status_location': 2, 'entity': 'spots'}, {'pomid': 45870, 'name': 'S-05', 'type': 'uspot', 'latitude': '38.6997976996308', 'longitude': '-0.481821088745381', 'attributes': [{'attributeid': 'algorithm_status', 'value': '0', 'last_update': 1625473678198}], 'elementid': '0100001b2b45e49c', 'status_location': 2, 'entity': 'spots'}, {'pomid': 45871, 'name': 'S-06', 'type': 'uspot', 'latitude': '38.6998365783307', 'longitude': '-0.481776393625468', 'attributes': [{'attributeid': 'algorithm_status', 'value': '0', 'last_update': 1625474882973}], 'elementid': '0100001b2b4da352', 'status_location': 2, 'entity': 'spots'}, {'pomid': 45872, 'name': 'S-07', 'type': 'uspot', 'latitude': '38.6998744879126', 'longitude': '-0.481732718955235', 'attributes': [{'attributeid': 'algorithm_status', 'value': '0', 'last_update': 1625470748259}], 'elementid': '0100001b2bfd5e25', 'status_location': 2, 'entity': 'spots'}, {'pomid': 45873, 'name': 'S-08', 'type': 'uspot', 'latitude': '38.7005222818808', 'longitude': '-0.480983981083665', 'attributes': [{'attributeid': 'algorithm_status', 'value': '0', 'last_update': 1625475254080}], 'elementid': '0100001b2c142784', 'status_location': 2, 'entity': 'spots'}, {'pomid': 45874, 'name': 'S-09', 'type': 'uspot', 'latitude': '38.7005557444634', 'longitude': '-0.480945517194455', 'attributes': [{'attributeid': 'algorithm_status', 'value': '0', 'last_update': 1625471164678}], 'elementid': '0100001b2bf9e9b8', 'status_location': 2, 'entity': 'spots'}, {'pomid': 45875, 'name': 'S-10', 'type': 'uspot', 'latitude': '38.7005891980041', 'longitude': '-0.480907052436327', 'attributes': [{'attributeid': 'algorithm_status', 'value': '0', 'last_update': 1625470340178}], 'elementid': '0100001b2c22bebb', 'status_location': 2, 'entity': 'spots'}, {'pomid': 45876, 'name': 'S-11', 'type': 'uspot', 'latitude': '38.7012650937665', 'longitude': '-0.480126811247066', 'attributes': [{'attributeid': 'algorithm_status', 'value': '0', 'last_update': 1625473537996}], 'elementid': '0100001b2c110d2f', 'status_location': 2, 'entity': 'spots'}, {'pomid': 45877, 'name': 'S-12', 'type': 'uspot', 'latitude': '38.701298547033', 'longitude': '-0.480088346872198', 'attributes': [{'attributeid': 'algorithm_status', 'value': '0', 'last_update': 1625470499623}], 'elementid': '0100001b2b434632', 'status_location': 2, 'entity': 'spots'}, {'pomid': 45878, 'name': 'S-13', 'type': 'uspot', 'latitude': '38.7013320002607', 'longitude': '-0.480049881312377', 'attributes': [{'attributeid': 'algorithm_status', 'value': '0', 'last_update': 1625474678905}], 'elementid': '0100001b2c0437a3', 'status_location': 2, 'entity': 'spots'}, {'pomid': 45879, 'name': 'S-14', 'type': 'uspot', 'latitude': '38.7025647427481', 'longitude': '-0.478628367975212', 'attributes': [{'attributeid': 'algorithm_status', 'value': '0', 'last_update': 1625472701426}], 'elementid': '0100001b2c06e156', 'status_location': 2, 'entity': 'spots'}, {'pomid': 45880, 'name': 'S-15', 'type': 'uspot', 'latitude': '38.7025981954426', 'longitude': '-0.478589901049265', 'attributes': [{'attributeid': 'algorithm_status', 'value': '0', 'last_update': 1625475326387}], 'elementid': '0100001b2b4c7002', 'status_location': 2, 'entity': 'spots'}, {'pomid': 45881, 'name': 'S-16', 'type': 'uspot', 'latitude': '38.7026316571509', 'longitude': '-0.478551434919845', 'attributes': [{'attributeid': 'algorithm_status', 'value': '0', 'last_update': 1625472874601}], 'elementid': '0100001b2c12c3ed', 'status_location': 2, 'entity': 'spots'}, {'pomid': 45882, 'name': 'S-17', 'type': 'uspot', 'latitude': '38.7029752900474', 'longitude': '-0.478155391321419', 'attributes': [{'attributeid': 'algorithm_status', 'value': '0', 'last_update': 1625471533218}], 'elementid': '0100001b2b79d351', 'status_location': 2, 'entity': 'spots'}, {'pomid': 45883, 'name': 'S-18', 'type': 'uspot', 'latitude': '38.7030087425939', 'longitude': '-0.478116925101623', 'attributes': [{'attributeid': 'algorithm_status', 'value': '0', 'last_update': 1625474720994}], 'elementid': '0100001b2b979e16', 'status_location': 2, 'entity': 'spots'}, {'pomid': 45884, 'name': 'S-19', 'type': 'uspot', 'latitude': '38.7030422041047', 'longitude': '-0.478078457380424', 'attributes': [{'attributeid': 'algorithm_status', 'value': '0', 'last_update': 1625473303982}], 'elementid': '0100001b2c03c005', 'status_location': 2, 'entity': 'spots'}, {'pomid': 45885, 'name': 'S-20', 'type': 'uspot', 'latitude': '38.7037705694468', 'longitude': '-0.477238845768122', 'attributes': [{'attributeid': 'algorithm_status', 'value': '0', 'last_update': 1625475394994}], 'elementid': '0100001b2b77294e', 'status_location': 2, 'entity': 'spots'}, {'pomid': 45886, 'name': 'S-21', 'type': 'uspot', 'latitude': '38.7038040306369', 'longitude': '-0.477200377224951', 'attributes': [{'attributeid': 'algorithm_status', 'value': '0', 'last_update': 1625471386889}], 'elementid': '0100001b2c00889f', 'status_location': 2, 'entity': 'spots'}, {'pomid': 45887, 'name': 'S-22', 'type': 'uspot', 'latitude': '38.7038374828346', 'longitude': '-0.477161910111211', 'attributes': [{'attributeid': 'algorithm_status', 'value': '0', 'last_update': 1625470575035}], 'elementid': '0100001b2b698234', 'status_location': 2, 'entity': 'spots'}], 'elementid': '', 'status_location': 2, 'entity': 'parkings'}\n"
     ]
    }
   ],
   "metadata": {}
  },
  {
   "cell_type": "code",
   "execution_count": 81,
   "source": [
    "from shapely.geometry import Polygon\n",
    "\n",
    "points = [[ float(pom['latitude']), float(pom['longitude'])] for pom in parking0['poms']]\n",
    "print(\"POINTS: \", points)\n",
    "hull = Polygon(points).buffer(0.0001).minimum_rotated_rectangle"
   ],
   "outputs": [
    {
     "output_type": "stream",
     "name": "stdout",
     "text": [
      "POINTS:  [[38.7039574713965, -0.477023949799113], [38.7040458009425, -0.476922383447501], [38.7045028269765, -0.476394933608962], [38.7045483233505, -0.476342616685345], [38.699623226988, -0.482021575538852], [38.6996655785243, -0.481972881817549], [38.6997079390165, -0.481924186573697], [38.6997590231559, -0.481865552517785], [38.6997976996308, -0.481821088745381], [38.6998365783307, -0.481776393625468], [38.6998744879126, -0.481732718955235], [38.7005222818808, -0.480983981083665], [38.7005557444634, -0.480945517194455], [38.7005891980041, -0.480907052436327], [38.7012650937665, -0.480126811247066], [38.701298547033, -0.480088346872198], [38.7013320002607, -0.480049881312377], [38.7025647427481, -0.478628367975212], [38.7025981954426, -0.478589901049265], [38.7026316571509, -0.478551434919845], [38.7029752900474, -0.478155391321419], [38.7030087425939, -0.478116925101623], [38.7030422041047, -0.478078457380424], [38.7037705694468, -0.477238845768122], [38.7038040306369, -0.477200377224951], [38.7038374828346, -0.477161910111211]]\n"
     ]
    }
   ],
   "metadata": {}
  },
  {
   "cell_type": "code",
   "execution_count": 82,
   "source": [
    "from ipyleaflet import Map, Marker, Polygon\n",
    "\n",
    "center = (float(parking0['latitude']), float(parking0['longitude']))\n",
    "\n",
    "m = Map(center=center, zoom=16)\n",
    "\n",
    "for point in points:\n",
    "    m.add_layer(Marker(location=point, draggable=True))\n",
    "\n",
    "\n",
    "area = Polygon(\n",
    "    locations=list(hull.exterior.coords),\n",
    "    color=\"green\",\n",
    "    fill_color=\"green\"\n",
    ")\n",
    "m.add_layer(area)\n",
    "\n",
    "display(m)"
   ],
   "outputs": [
    {
     "output_type": "display_data",
     "data": {
      "text/plain": [
       "Map(center=[38.7020857751693, -0.479182096112105], controls=(ZoomControl(options=['position', 'zoom_in_text', …"
      ],
      "application/vnd.jupyter.widget-view+json": {
       "version_major": 2,
       "version_minor": 0,
       "model_id": "c312069d4720474caf8e36711b9733c4"
      }
     },
     "metadata": {}
    }
   ],
   "metadata": {}
  },
  {
   "cell_type": "code",
   "execution_count": 6,
   "source": [
    "keystoneURL = env[\"KEYSTONE_URL\"]\n",
    "orionURL = env[\"ORION_URL\"]\n",
    "service = env[\"ORION_SERVICE\"]\n",
    "subservice = env[\"ORION_SUBSERVICE\"]\n",
    "username = env[\"ORION_USERNAME\"]\n",
    "password = env[\"ORION_PASSWORD\"]\n",
    "\n",
    "import logging\n",
    "import sys \n",
    "\n",
    "root = logging.getLogger()\n",
    "root.setLevel(logging.DEBUG)\n",
    "handler = logging.StreamHandler(sys.stdout)\n",
    "handler.setLevel(logging.DEBUG)\n",
    "root.addHandler(handler)\n",
    "\n",
    "logging.info(\"Authenticating to url %s, service %s, username %s\", keystoneURL, service, username)\n",
    "cb = ContextBroker(\n",
    "    keystoneURL=keystoneURL,\n",
    "    orionURL=orionURL,\n",
    "    service=service,\n",
    "    subservice=subservice)\n",
    "cb.auth(session, username, password)\n"
   ],
   "outputs": [
    {
     "output_type": "stream",
     "name": "stdout",
     "text": [
      "Authenticating to url https://auth.iotplatform.telefonica.com:15001, service sc_alcoi_int, username alcoi_int_admin\n",
      "Starting new HTTPS connection (1): auth.iotplatform.telefonica.com:15001\n",
      "https://auth.iotplatform.telefonica.com:15001 \"POST /v3/auth/tokens HTTP/1.1\" 201 1712\n"
     ]
    }
   ],
   "metadata": {}
  },
  {
   "cell_type": "code",
   "execution_count": 7,
   "source": [
    "@attr.s(auto_attribs=True)\n",
    "class SpotIterator(object):\n",
    "\n",
    "    # IDs of POM, device and zone\n",
    "    pomid: int\n",
    "    deviceid: str\n",
    "    zoneid: str\n",
    "\n",
    "    # Orion entity IDs\n",
    "    entityid: str\n",
    "    deviceentityid: str\n",
    "    zoneentityid: str\n",
    "\n",
    "    # Other attributes of spot\n",
    "    name: str\n",
    "    coords: List[float]\n",
    "\n",
    "    # Time range and events in that range\n",
    "    from_ts: datetime\n",
    "    to_ts: datetime\n",
    "    events: JsonList\n",
    "\n",
    "    @classmethod\n",
    "    def collect(cls, session: Session, project: Project, cb: ContextBroker, pom: JsonDict, device: JsonDict, to_ts: datetime):\n",
    "        \"\"\"Collect vehicle_ctrl events for the given pomid between most recent update, and to_ts\"\"\"\n",
    "        pomid = pom['pomid']\n",
    "        name = pom['name']\n",
    "        logging.info(\"Collecting vehicle_ctrl events from pom %s (id %d)\", name, pomid)\n",
    "        deviceid = device['elementid']\n",
    "        zoneid = device['zoneid']\n",
    "        coords = [float(pom['latitude']), float(pom['longitude'])]\n",
    "        entityid = f'pomid:{pomid}'\n",
    "        deviceentityid = f'elementid:{deviceid}'\n",
    "        zoneentityid = f'zoneid:{zoneid}'\n",
    "        logging.info(f'Getting latest occupancyModified for entity {entityid}')\n",
    "        entity = cb.get(session, entityID=entityid, entityType=\"ParkingSpot\")\n",
    "        from_ts = to_ts - timedelta(days=1)\n",
    "        if entity is not None and 'occupancyModified' in entity:\n",
    "            from_ts = datetime.fromisoformat(entity['occupancyModified']['value'].replace('Z','+00:00'))\n",
    "        logging.info(f'Getting events for pomid {pomid} between {from_ts} and {to_ts}')\n",
    "        events = project.vehicles(session, pomid, from_ts, to_ts)\n",
    "        return cls(\n",
    "            pomid=pomid,name=name,deviceid=deviceid,zoneid=zoneid,coords=coords,entityid=entityid,deviceentityid=deviceentityid,zoneentityid=zoneentityid,from_ts=from_ts,to_ts=to_ts,events=events\n",
    "        )\n",
    "\n",
    "    def __iter__(self) -> Generator[JsonDict, None, None]:\n",
    "        \"\"\"Iterate on vehicle_ctrl events generating ParkingSpot entity updates\"\"\"\n",
    "        if self.events:\n",
    "            for event in self.events:\n",
    "                timeinstant = event['lstamp'].isoformat()\n",
    "                occupied = int(event['value'])\n",
    "                yield {\n",
    "                    'id': self.entityid,\n",
    "                    'type': 'ParkingSpot',\n",
    "                    'TimeInstant': {\n",
    "                        'type': 'DateTime',\n",
    "                        'value': timeinstant,\n",
    "                    },\n",
    "                    'occupancyModified': {\n",
    "                        'type': 'DateTime',\n",
    "                        'value': timeinstant,\n",
    "                    },\n",
    "                    'name': {\n",
    "                        'type': 'Text',\n",
    "                        'value': self.name\n",
    "                    },\n",
    "                    'status': {\n",
    "                        'type': 'Text',\n",
    "                        'value': 'free' if occupied == 0 else ('occupied' if occupied == 1 else 'unknown'),\n",
    "                    },\n",
    "                    'refOnStreetParking': {\n",
    "                        'type': 'Text',\n",
    "                        'value': self.zoneentityid\n",
    "                    },\n",
    "                    'refDevice': {\n",
    "                        'type': 'Text',\n",
    "                        'value': self.deviceentityid\n",
    "                    },\n",
    "                    'location': {\n",
    "                        'type': 'geo:json',\n",
    "                        'value': {\n",
    "                            'type': 'Point',\n",
    "                            # HACK: Urbo coordinate system is \"swapped\"\n",
    "                            'coordinates': [self.coords[1], self.coords[0]]\n",
    "                        }\n",
    "                    },\n",
    "                    'occupied': {\n",
    "                        'type': 'Number',\n",
    "                        'value': occupied\n",
    "                    }\n",
    "                }\n"
   ],
   "outputs": [],
   "metadata": {}
  },
  {
   "cell_type": "code",
   "execution_count": 8,
   "source": [
    "from shapely.geometry import Polygon\n",
    "\n",
    "def zone_to_entity(zone: JsonDict, zone_poms: JsonDict):\n",
    "    \"\"\"Collect zone information for the given zone\"\"\"\n",
    "    zoneid = zone['zoneid']\n",
    "    name = zone['description']\n",
    "    location = [\n",
    "        (float(zone['lat_ne'])  + float(zone['lat_sw']))/2,\n",
    "        (float(zone['long_ne']) + float(zone['long_sw']))/2\n",
    "    ]\n",
    "    points = [[ float(pom['latitude']), float(pom['longitude'])] for pom in zone_poms]\n",
    "    area = Polygon(points).buffer(0.0001).minimum_rotated_rectangle.exterior.coords\n",
    "    return {\n",
    "        'id': f'zoneid:{zoneid}',\n",
    "        'type': 'OnStreetParking',\n",
    "        'name': {\n",
    "            'type': 'Text',\n",
    "            'value': name\n",
    "        },\n",
    "        'location': {\n",
    "            'type': 'geo:json',\n",
    "            'value': {\n",
    "                'type': 'Point',\n",
    "                # HACK: Urbo swaps latitude and longitude...\n",
    "                'coordinates': [location[1], location[0]]\n",
    "            }\n",
    "        },\n",
    "        'polygon': {\n",
    "            'type': 'geox:json',\n",
    "            'value': {\n",
    "                'type': 'Polygon',\n",
    "                # HACK: Urbo swaps latitude and longitude...\n",
    "                'coordinates': [[item[1], item[0]] for item in area]\n",
    "            }\n",
    "        },\n",
    "        'totalSpotNumber': {\n",
    "            'type': 'Number',\n",
    "            'value': len(zone_poms)\n",
    "        }\n",
    "    }\n"
   ],
   "outputs": [
    {
     "output_type": "stream",
     "name": "stdout",
     "text": [
      "Found GEOS DLL: <CDLL '/home/rafa/.local/lib/python3.8/site-packages/shapely/.libs/libgeos_c-a68605fd.so.1.13.1', handle 194f0e0 at 0x7fba53c7aeb0>, using it.\n",
      "Trying `CDLL(libc.so.6)`\n",
      "Library path: 'libc.so.6'\n",
      "DLL: <CDLL 'libc.so.6', handle 7fba756f2000 at 0x7fba53c7ae80>\n"
     ]
    }
   ],
   "metadata": {}
  },
  {
   "cell_type": "code",
   "execution_count": 9,
   "source": [
    "from concurrent.futures import ThreadPoolExecutor\n",
    "from collections import defaultdict\n",
    "\n",
    "all_zones = dict()\n",
    "poms_by_zone = defaultdict(list)\n",
    "pom_params = list()\n",
    "now_ts = datetime.now()\n",
    "for project_id, project in api.projects(session).items():\n",
    "    zones = project.zones(session)\n",
    "    all_zones.update(zones)\n",
    "    devices = dict()\n",
    "    for zoneid, zone in zones.items():\n",
    "        devices.update(project.devices(session, zoneid))\n",
    "    for pomid, pom in project.spots(session).items():\n",
    "        poms_by_zone[devices[pom['elementid']]['zoneid']].append(pom)\n",
    "        pom_params.append({\n",
    "            'session': session,\n",
    "            'project': project,\n",
    "            'cb': cb,\n",
    "            'pom': pom,\n",
    "            'device': devices[pom['elementid']],\n",
    "            'to_ts': now_ts,\n",
    "        })\n",
    "\n",
    "\n",
    "with ThreadPoolExecutor(max_workers=8) as pool:\n",
    "    iterators = pool.map(lambda p: SpotIterator.collect(**p), pom_params)\n"
   ],
   "outputs": [
    {
     "output_type": "stream",
     "name": "stdout",
     "text": [
      "Resetting dropped connection: 172.18.176.1\n",
      "http://172.18.176.1:3128 \"GET http://api.urbiotica.net/v2/organisms/org387236/projects HTTP/1.1\" 200 193\n",
      "http://172.18.176.1:3128 \"GET http://api.urbiotica.net/v2/organisms/org387236/projects/prj4dd9a3/zones HTTP/1.1\" 200 255\n",
      "http://172.18.176.1:3128 \"GET http://api.urbiotica.net/v2/organisms/org387236/projects/prj4dd9a3/zones/733/devices HTTP/1.1\" 200 8452\n",
      "http://172.18.176.1:3128 \"GET http://api.urbiotica.net/v2/organisms/org387236/projects/prj4dd9a3/spots HTTP/1.1\" 200 6915\n",
      "Collecting vehicle_ctrl events from pom S-23 (id 45888)\n",
      "Collecting vehicle_ctrl events from pom S-24 (id 45889)\n",
      "Getting latest occupancyModified for entity pomid:45888\n",
      "Getting latest occupancyModified for entity pomid:45889\n",
      "Collecting vehicle_ctrl events from pom S-25 (id 45890)\n",
      "Starting new HTTPS connection (1): cb.iotplatform.telefonica.com:10027\n",
      "Collecting vehicle_ctrl events from pom S-26 (id 45891)\n",
      "Collecting vehicle_ctrl events from pom S-01 (id 45866)\n",
      "Collecting vehicle_ctrl events from pom S-02 (id 45867)\n",
      "Collecting vehicle_ctrl events from pom S-03 (id 45868)\n",
      "Collecting vehicle_ctrl events from pom S-04 (id 45869)\n",
      "Starting new HTTPS connection (1): cb.iotplatform.telefonica.com:10027\n",
      "Getting latest occupancyModified for entity pomid:45890\n",
      "Getting latest occupancyModified for entity pomid:45891\n",
      "Getting latest occupancyModified for entity pomid:45866\n",
      "Getting latest occupancyModified for entity pomid:45867\n",
      "Getting latest occupancyModified for entity pomid:45868\n",
      "Getting latest occupancyModified for entity pomid:45869\n",
      "Starting new HTTPS connection (1): cb.iotplatform.telefonica.com:10027\n",
      "Starting new HTTPS connection (1): cb.iotplatform.telefonica.com:10027\n",
      "Starting new HTTPS connection (1): cb.iotplatform.telefonica.com:10027\n",
      "Starting new HTTPS connection (1): cb.iotplatform.telefonica.com:10027\n",
      "Starting new HTTPS connection (1): cb.iotplatform.telefonica.com:10027\n",
      "Starting new HTTPS connection (1): cb.iotplatform.telefonica.com:10027\n",
      "https://cb.iotplatform.telefonica.com:10027 \"GET /v2/entities/pomid:45867?type=ParkingSpot HTTP/1.1\" 200 635\n",
      "https://cb.iotplatform.telefonica.com:10027 \"GET /v2/entities/pomid:45890?type=ParkingSpot HTTP/1.1\" 200 635\n",
      "https://cb.iotplatform.telefonica.com:10027 \"GET /v2/entities/pomid:45888?type=ParkingSpot HTTP/1.1\" 200 634\n",
      "Getting events for pomid 45867 between 2021-08-16 13:20:31+00:00 and 2021-08-16 17:53:52.544283\n",
      "Getting events for pomid 45890 between 2021-08-16 12:08:23+00:00 and 2021-08-16 17:53:52.544283\n",
      "Getting events for pomid 45888 between 2021-08-16 13:20:39+00:00 and 2021-08-16 17:53:52.544283\n",
      "Starting new HTTP connection (1): 172.18.176.1:3128\n",
      "Starting new HTTP connection (1): 172.18.176.1:3128\n",
      "https://cb.iotplatform.telefonica.com:10027 \"GET /v2/entities/pomid:45868?type=ParkingSpot HTTP/1.1\" 200 639\n",
      "Starting new HTTP connection (1): 172.18.176.1:3128\n",
      "Getting events for pomid 45868 between 2021-08-16 14:10:28+00:00 and 2021-08-16 17:53:52.544283\n",
      "Starting new HTTP connection (1): 172.18.176.1:3128\n",
      "https://cb.iotplatform.telefonica.com:10027 \"GET /v2/entities/pomid:45866?type=ParkingSpot HTTP/1.1\" 200 639\n",
      "Getting events for pomid 45866 between 2021-08-16 12:42:54+00:00 and 2021-08-16 17:53:52.544283\n",
      "Starting new HTTP connection (1): 172.18.176.1:3128\n",
      "https://cb.iotplatform.telefonica.com:10027 \"GET /v2/entities/pomid:45891?type=ParkingSpot HTTP/1.1\" 200 635\n",
      "Getting events for pomid 45891 between 2021-08-16 10:58:31+00:00 and 2021-08-16 17:53:52.544283\n",
      "Starting new HTTP connection (1): 172.18.176.1:3128\n",
      "http://172.18.176.1:3128 \"GET http://api.urbiotica.net/v2/organisms/org387236/projects/prj4dd9a3/spots/45867/phenomenons/vehicle_ctrl?start=1629120031&end=1629129234 HTTP/1.1\" 200 241\n",
      "JSON:  [{'pomid': 45867, 'phenomenon': {'phenomenonid': 'vehicle_ctrl', 'unit': 'bool'}, 'measurements': [{'lstamp': 1629129072514, 'value': '1'}, {'lstamp': 1629128529627, 'value': '0'}, {'lstamp': 1629128278240, 'value': '1'}, {'lstamp': 1629120031189, 'value': '0'}]}]\n",
      "Collecting vehicle_ctrl events from pom S-05 (id 45870)\n",
      "Getting latest occupancyModified for entity pomid:45870\n",
      "https://cb.iotplatform.telefonica.com:10027 \"GET /v2/entities/pomid:45870?type=ParkingSpot HTTP/1.1\" 200 633\n",
      "Getting events for pomid 45870 between 2021-08-16 14:40:03+00:00 and 2021-08-16 17:53:52.544283\n",
      "http://172.18.176.1:3128 \"GET http://api.urbiotica.net/v2/organisms/org387236/projects/prj4dd9a3/spots/45890/phenomenons/vehicle_ctrl?start=1629115703&end=1629129234 HTTP/1.1\" 200 130\n",
      "JSON:  [{'pomid': 45890, 'phenomenon': {'phenomenonid': 'vehicle_ctrl', 'unit': 'bool'}, 'measurements': [{'lstamp': 1629115703453, 'value': '0'}]}]\n",
      "Collecting vehicle_ctrl events from pom S-06 (id 45871)\n",
      "Getting latest occupancyModified for entity pomid:45871\n",
      "http://172.18.176.1:3128 \"GET http://api.urbiotica.net/v2/organisms/org387236/projects/prj4dd9a3/spots/45888/phenomenons/vehicle_ctrl?start=1629120039&end=1629129234 HTTP/1.1\" 200 241\n",
      "JSON:  [{'pomid': 45888, 'phenomenon': {'phenomenonid': 'vehicle_ctrl', 'unit': 'bool'}, 'measurements': [{'lstamp': 1629128888344, 'value': '1'}, {'lstamp': 1629128614445, 'value': '0'}, {'lstamp': 1629128049703, 'value': '1'}, {'lstamp': 1629120039633, 'value': '0'}]}]\n",
      "Collecting vehicle_ctrl events from pom S-07 (id 45872)\n",
      "http://172.18.176.1:3128 \"GET http://api.urbiotica.net/v2/organisms/org387236/projects/prj4dd9a3/spots/45866/phenomenons/vehicle_ctrl?start=1629117774&end=1629129234 HTTP/1.1\" 200 204\n",
      "JSON:  [{'pomid': 45866, 'phenomenon': {'phenomenonid': 'vehicle_ctrl', 'unit': 'bool'}, 'measurements': [{'lstamp': 1629128249036, 'value': '1'}, {'lstamp': 1629128168532, 'value': '0'}, {'lstamp': 1629117774068, 'value': '1'}]}]\n",
      "Getting latest occupancyModified for entity pomid:45872\n",
      "Collecting vehicle_ctrl events from pom S-08 (id 45873)\n",
      "Getting latest occupancyModified for entity pomid:45873\n",
      "http://172.18.176.1:3128 \"GET http://api.urbiotica.net/v2/organisms/org387236/projects/prj4dd9a3/spots/45870/phenomenons/vehicle_ctrl?start=1629124803&end=1629129234 HTTP/1.1\" 200 241\n",
      "JSON:  [{'pomid': 45870, 'phenomenon': {'phenomenonid': 'vehicle_ctrl', 'unit': 'bool'}, 'measurements': [{'lstamp': 1629128653559, 'value': '1'}, {'lstamp': 1629128208967, 'value': '0'}, {'lstamp': 1629127342331, 'value': '1'}, {'lstamp': 1629124803891, 'value': '0'}]}]\n",
      "Collecting vehicle_ctrl events from pom S-09 (id 45874)\n",
      "Getting latest occupancyModified for entity pomid:45874\n",
      "https://cb.iotplatform.telefonica.com:10027 \"GET /v2/entities/pomid:45869?type=ParkingSpot HTTP/1.1\" 200 635\n",
      "Getting events for pomid 45869 between 2021-08-16 11:37:29+00:00 and 2021-08-16 17:53:52.544283\n",
      "Starting new HTTP connection (1): 172.18.176.1:3128\n",
      "https://cb.iotplatform.telefonica.com:10027 \"GET /v2/entities/pomid:45889?type=ParkingSpot HTTP/1.1\" 200 635\n",
      "Getting events for pomid 45889 between 2021-08-16 15:22:11+00:00 and 2021-08-16 17:53:52.544283\n",
      "Starting new HTTP connection (1): 172.18.176.1:3128\n",
      "http://172.18.176.1:3128 \"GET http://api.urbiotica.net/v2/organisms/org387236/projects/prj4dd9a3/spots/45891/phenomenons/vehicle_ctrl?start=1629111511&end=1629129234 HTTP/1.1\" 200 130\n",
      "JSON:  [{'pomid': 45891, 'phenomenon': {'phenomenonid': 'vehicle_ctrl', 'unit': 'bool'}, 'measurements': [{'lstamp': 1629111511360, 'value': '0'}]}]\n",
      "Collecting vehicle_ctrl events from pom S-10 (id 45875)\n",
      "Getting latest occupancyModified for entity pomid:45875\n",
      "http://172.18.176.1:3128 \"GET http://api.urbiotica.net/v2/organisms/org387236/projects/prj4dd9a3/spots/45868/phenomenons/vehicle_ctrl?start=1629123028&end=1629129234 HTTP/1.1\" 200 130\n",
      "JSON:  [{'pomid': 45868, 'phenomenon': {'phenomenonid': 'vehicle_ctrl', 'unit': 'bool'}, 'measurements': [{'lstamp': 1629123028584, 'value': '1'}]}]\n",
      "Collecting vehicle_ctrl events from pom S-11 (id 45876)\n",
      "Getting latest occupancyModified for entity pomid:45876\n",
      "http://172.18.176.1:3128 \"GET http://api.urbiotica.net/v2/organisms/org387236/projects/prj4dd9a3/spots/45889/phenomenons/vehicle_ctrl?start=1629127331&end=1629129234 HTTP/1.1\" 200 167\n",
      "JSON:  [{'pomid': 45889, 'phenomenon': {'phenomenonid': 'vehicle_ctrl', 'unit': 'bool'}, 'measurements': [{'lstamp': 1629128874492, 'value': '1'}, {'lstamp': 1629127331410, 'value': '0'}]}]\n",
      "Collecting vehicle_ctrl events from pom S-12 (id 45877)\n",
      "Getting latest occupancyModified for entity pomid:45877\n",
      "http://172.18.176.1:3128 \"GET http://api.urbiotica.net/v2/organisms/org387236/projects/prj4dd9a3/spots/45869/phenomenons/vehicle_ctrl?start=1629113849&end=1629129234 HTTP/1.1\" 200 241\n",
      "JSON:  [{'pomid': 45869, 'phenomenon': {'phenomenonid': 'vehicle_ctrl', 'unit': 'bool'}, 'measurements': [{'lstamp': 1629128288518, 'value': '1'}, {'lstamp': 1629128208187, 'value': '0'}, {'lstamp': 1629127345219, 'value': '1'}, {'lstamp': 1629113849356, 'value': '0'}]}]\n",
      "Collecting vehicle_ctrl events from pom S-13 (id 45878)\n",
      "Getting latest occupancyModified for entity pomid:45878\n",
      "https://cb.iotplatform.telefonica.com:10027 \"GET /v2/entities/pomid:45872?type=ParkingSpot HTTP/1.1\" 200 635\n",
      "Getting events for pomid 45872 between 2021-08-16 13:44:52+00:00 and 2021-08-16 17:53:52.544283\n",
      "https://cb.iotplatform.telefonica.com:10027 \"GET /v2/entities/pomid:45873?type=ParkingSpot HTTP/1.1\" 200 635\n",
      "Getting events for pomid 45873 between 2021-08-16 15:22:32+00:00 and 2021-08-16 17:53:52.544283\n",
      "https://cb.iotplatform.telefonica.com:10027 \"GET /v2/entities/pomid:45871?type=ParkingSpot HTTP/1.1\" 200 635\n",
      "Getting events for pomid 45871 between 2021-08-16 13:39:08+00:00 and 2021-08-16 17:53:52.544283\n",
      "http://172.18.176.1:3128 \"GET http://api.urbiotica.net/v2/organisms/org387236/projects/prj4dd9a3/spots/45872/phenomenons/vehicle_ctrl?start=1629121492&end=1629129234 HTTP/1.1\" 200 130\n",
      "JSON:  [{'pomid': 45872, 'phenomenon': {'phenomenonid': 'vehicle_ctrl', 'unit': 'bool'}, 'measurements': [{'lstamp': 1629121492435, 'value': '0'}]}]\n",
      "Collecting vehicle_ctrl events from pom S-14 (id 45879)\n",
      "Getting latest occupancyModified for entity pomid:45879\n",
      "https://cb.iotplatform.telefonica.com:10027 \"GET /v2/entities/pomid:45874?type=ParkingSpot HTTP/1.1\" 200 635\n",
      "Getting events for pomid 45874 between 2021-08-16 15:22:31+00:00 and 2021-08-16 17:53:52.544283\n",
      "https://cb.iotplatform.telefonica.com:10027 \"GET /v2/entities/pomid:45875?type=ParkingSpot HTTP/1.1\" 200 635\n",
      "Getting events for pomid 45875 between 2021-08-16 14:46:02+00:00 and 2021-08-16 17:53:52.544283\n",
      "http://172.18.176.1:3128 \"GET http://api.urbiotica.net/v2/organisms/org387236/projects/prj4dd9a3/spots/45873/phenomenons/vehicle_ctrl?start=1629127352&end=1629129234 HTTP/1.1\" 200 204\n",
      "JSON:  [{'pomid': 45873, 'phenomenon': {'phenomenonid': 'vehicle_ctrl', 'unit': 'bool'}, 'measurements': [{'lstamp': 1629128860886, 'value': '0'}, {'lstamp': 1629128377832, 'value': '1'}, {'lstamp': 1629127352747, 'value': '0'}]}]\n",
      "Collecting vehicle_ctrl events from pom S-15 (id 45880)\n",
      "Getting latest occupancyModified for entity pomid:45880\n",
      "http://172.18.176.1:3128 \"GET http://api.urbiotica.net/v2/organisms/org387236/projects/prj4dd9a3/spots/45871/phenomenons/vehicle_ctrl?start=1629121148&end=1629129234 HTTP/1.1\" 200 130\n",
      "JSON: https://cb.iotplatform.telefonica.com:10027 \"GET /v2/entities/pomid:45876?type=ParkingSpot HTTP/1.1\" 200 635\n",
      " Getting events for pomid 45876 between 2021-08-16 14:26:27+00:00 and 2021-08-16 17:53:52.544283\n",
      "[{'pomid': 45871, 'phenomenon': {'phenomenonid': 'vehicle_ctrl', 'unit': 'bool'}, 'measurements': [{'lstamp': 1629121148764, 'value': '0'}]}]\n",
      "Collecting vehicle_ctrl events from pom S-16 (id 45881)\n",
      "Getting latest occupancyModified for entity pomid:45881\n",
      "http://172.18.176.1:3128 \"GET http://api.urbiotica.net/v2/organisms/org387236/projects/prj4dd9a3/spots/45874/phenomenons/vehicle_ctrl?start=1629127351&end=1629129234 HTTP/1.1\" 200 204\n",
      "JSON:  [{'pomid': 45874, 'phenomenon': {'phenomenonid': 'vehicle_ctrl', 'unit': 'bool'}, 'measurements': [{'lstamp': 1629127523134, 'value': '0'}, {'lstamp': 1629127411988, 'value': '1'}, {'lstamp': 1629127351419, 'value': '0'}]}]\n",
      "Collecting vehicle_ctrl events from pom S-17 (id 45882)\n",
      "Getting latest occupancyModified for entity pomid:45882\n",
      "https://cb.iotplatform.telefonica.com:10027 \"GET /v2/entities/pomid:45879?type=ParkingSpot HTTP/1.1\" 200 635\n",
      "Getting events for pomid 45879 between 2021-08-16 14:12:30+00:00 and 2021-08-16 17:53:52.544283\n",
      "http://172.18.176.1:3128 \"GET http://api.urbiotica.net/v2/organisms/org387236/projects/prj4dd9a3/spots/45875/phenomenons/vehicle_ctrl?start=1629125162&end=1629129234 HTTP/1.1\" 200 278\n",
      "JSON:  [{'pomid': 45875, 'phenomenon': {'phenomenonid': 'vehicle_ctrl', 'unit': 'bool'}, 'measurements': [{'lstamp': 1629128954751, 'value': '0'}, {'lstamp': 1629127828609, 'value': '1'}, {'lstamp': 1629127517149, 'value': '0'}, {'lstamp': 1629127416749, 'value': '1'}, {'lstamp': 1629125162850, 'value': '0'}]}]\n",
      "Collecting vehicle_ctrl events from pom S-18 (id 45883)\n",
      "Getting latest occupancyModified for entity pomid:45883\n",
      "https://cb.iotplatform.telefonica.com:10027 \"GET /v2/entities/pomid:45880?type=ParkingSpot HTTP/1.1\" 200 635\n",
      "Getting events for pomid 45880 between 2021-08-16 14:42:54+00:00 and 2021-08-16 17:53:52.544283\n",
      "https://cb.iotplatform.telefonica.com:10027 \"GET /v2/entities/pomid:45878?type=ParkingSpot HTTP/1.1\" 200 632\n",
      "Getting events for pomid 45878 between 2021-08-16 13:16:40+00:00 and 2021-08-16 17:53:52.544283\n",
      "https://cb.iotplatform.telefonica.com:10027 \"GET /v2/entities/pomid:45881?type=ParkingSpot HTTP/1.1\" 200 635\n",
      "Getting events for pomid 45881 between 2021-08-16 14:30:06+00:00 and 2021-08-16 17:53:52.544283\n",
      "http://172.18.176.1:3128 \"GET http://api.urbiotica.net/v2/organisms/org387236/projects/prj4dd9a3/spots/45876/phenomenons/vehicle_ctrl?start=1629123987&end=1629129234 HTTP/1.1\" 200 130\n",
      "JSON:  [{'pomid': 45876, 'phenomenon': {'phenomenonid': 'vehicle_ctrl', 'unit': 'bool'}, 'measurements': [{'lstamp': 1629123987399, 'value': '0'}]}]\n",
      "Collecting vehicle_ctrl events from pom S-19 (id 45884)\n",
      "Getting latest occupancyModified for entity pomid:45884\n",
      "http://172.18.176.1:3128 \"GET http://api.urbiotica.net/v2/organisms/org387236/projects/prj4dd9a3/spots/45880/phenomenons/vehicle_ctrl?start=1629124974&end=1629129234 HTTP/1.1\" 200 204\n",
      "JSON:  [{'pomid': 45880, 'phenomenon': {'phenomenonid': 'vehicle_ctrl', 'unit': 'bool'}, 'measurements': [{'lstamp': 1629128650359, 'value': '0'}, {'lstamp': 1629128266706, 'value': '1'}, {'lstamp': 1629124974870, 'value': '0'}]}]\n",
      "Collecting vehicle_ctrl events from pom S-20 (id 45885)\n",
      "Getting latest occupancyModified for entity pomid:45885\n",
      "https://cb.iotplatform.telefonica.com:10027 \"GET /v2/entities/pomid:45882?type=ParkingSpot HTTP/1.1\" 200 634\n",
      "http://172.18.176.1:3128 \"GET http://api.urbiotica.net/v2/organisms/org387236/projects/prj4dd9a3/spots/45879/phenomenons/vehicle_ctrl?start=1629123150&end=1629129234 HTTP/1.1\" 200 130\n",
      "JSON: Getting events for pomid 45882 between 2021-08-16 15:19:47+00:00 and 2021-08-16 17:53:52.544283\n",
      " [{'pomid': 45879, 'phenomenon': {'phenomenonid': 'vehicle_ctrl', 'unit': 'bool'}, 'measurements': [{'lstamp': 1629123150252, 'value': '0'}]}]\n",
      "Collecting vehicle_ctrl events from pom S-21 (id 45886)\n",
      "http://172.18.176.1:3128 \"GET http://api.urbiotica.net/v2/organisms/org387236/projects/prj4dd9a3/spots/45881/phenomenons/vehicle_ctrl?start=1629124206&end=1629129234 HTTP/1.1\" 200 130\n",
      "JSON:  [{'pomid': 45881, 'phenomenon': {'phenomenonid': 'vehicle_ctrl', 'unit': 'bool'}, 'measurements': [{'lstamp': 1629124206693, 'value': '0'}]}]\n",
      "Getting latest occupancyModified for entity pomid:45886\n",
      "Collecting vehicle_ctrl events from pom S-22 (id 45887)\n",
      "Getting latest occupancyModified for entity pomid:45887\n",
      "http://172.18.176.1:3128 \"GET http://api.urbiotica.net/v2/organisms/org387236/projects/prj4dd9a3/spots/45878/phenomenons/vehicle_ctrl?start=1629119800&end=1629129234 HTTP/1.1\" 200 130\n",
      "JSON:  [{'pomid': 45878, 'phenomenon': {'phenomenonid': 'vehicle_ctrl', 'unit': 'bool'}, 'measurements': [{'lstamp': 1629119800262, 'value': '0'}]}]\n",
      "https://cb.iotplatform.telefonica.com:10027 \"GET /v2/entities/pomid:45883?type=ParkingSpot HTTP/1.1\" 200 635\n",
      "Getting events for pomid 45883 between 2021-08-16 15:19:42+00:00 and 2021-08-16 17:53:52.544283\n",
      "http://172.18.176.1:3128 \"GET http://api.urbiotica.net/v2/organisms/org387236/projects/prj4dd9a3/spots/45882/phenomenons/vehicle_ctrl?start=1629127187&end=1629129234 HTTP/1.1\" 200 204\n",
      "JSON:  [{'pomid': 45882, 'phenomenon': {'phenomenonid': 'vehicle_ctrl', 'unit': 'bool'}, 'measurements': [{'lstamp': 1629128951113, 'value': '0'}, {'lstamp': 1629128760407, 'value': '1'}, {'lstamp': 1629127187725, 'value': '0'}]}]\n",
      "http://172.18.176.1:3128 \"GET http://api.urbiotica.net/v2/organisms/org387236/projects/prj4dd9a3/spots/45883/phenomenons/vehicle_ctrl?start=1629127182&end=1629129234 HTTP/1.1\" 200 130\n",
      "JSON:  [{'pomid': 45883, 'phenomenon': {'phenomenonid': 'vehicle_ctrl', 'unit': 'bool'}, 'measurements': [{'lstamp': 1629127182198, 'value': '0'}]}]\n",
      "https://cb.iotplatform.telefonica.com:10027 \"GET /v2/entities/pomid:45877?type=ParkingSpot HTTP/1.1\" 200 635\n",
      "Getting events for pomid 45877 between 2021-08-16 14:26:32+00:00 and 2021-08-16 17:53:52.544283\n",
      "https://cb.iotplatform.telefonica.com:10027 \"GET /v2/entities/pomid:45884?type=ParkingSpot HTTP/1.1\" 200 635\n",
      "Getting events for pomid 45884 between 2021-08-16 14:46:10+00:00 and 2021-08-16 17:53:52.544283\n",
      "https://cb.iotplatform.telefonica.com:10027 \"GET /v2/entities/pomid:45885?type=ParkingSpot HTTP/1.1\" 200 635\n",
      "Getting events for pomid 45885 between 2021-08-16 15:03:03+00:00 and 2021-08-16 17:53:52.544283\n",
      "https://cb.iotplatform.telefonica.com:10027 \"GET /v2/entities/pomid:45886?type=ParkingSpot HTTP/1.1\" 200 635\n",
      "Getting events for pomid 45886 between 2021-08-16 15:16:03+00:00 and 2021-08-16 17:53:52.544283\n",
      "https://cb.iotplatform.telefonica.com:10027 \"GET /v2/entities/pomid:45887?type=ParkingSpot HTTP/1.1\" 200 634\n",
      "Getting events for pomid 45887 between 2021-08-16 15:16:03+00:00 and 2021-08-16 17:53:52.544283\n",
      "http://172.18.176.1:3128 \"GET http://api.urbiotica.net/v2/organisms/org387236/projects/prj4dd9a3/spots/45885/phenomenons/vehicle_ctrl?start=1629126183&end=1629129234 HTTP/1.1\" 200 167\n",
      "JSON:  [{'pomid': 45885, 'phenomenon': {'phenomenonid': 'vehicle_ctrl', 'unit': 'bool'}, 'measurements': [{'lstamp': 1629128335723, 'value': '1'}, {'lstamp': 1629126183988, 'value': '0'}]}]\n",
      "http://172.18.176.1:3128 \"GET http://api.urbiotica.net/v2/organisms/org387236/projects/prj4dd9a3/spots/45877/phenomenons/vehicle_ctrl?start=1629123992&end=1629129234 HTTP/1.1\" 200 167\n",
      "JSON:  [{'pomid': 45877, 'phenomenon': {'phenomenonid': 'vehicle_ctrl', 'unit': 'bool'}, 'measurements': [{'lstamp': 1629128661306, 'value': '1'}, {'lstamp': 1629123992919, 'value': '0'}]}]\n",
      "http://172.18.176.1:3128 \"GET http://api.urbiotica.net/v2/organisms/org387236/projects/prj4dd9a3/spots/45884/phenomenons/vehicle_ctrl?start=1629125170&end=1629129234 HTTP/1.1\" 200 130\n",
      "JSON:  [{'pomid': 45884, 'phenomenon': {'phenomenonid': 'vehicle_ctrl', 'unit': 'bool'}, 'measurements': [{'lstamp': 1629125170844, 'value': '0'}]}]\n",
      "http://172.18.176.1:3128 \"GET http://api.urbiotica.net/v2/organisms/org387236/projects/prj4dd9a3/spots/45886/phenomenons/vehicle_ctrl?start=1629126963&end=1629129234 HTTP/1.1\" 200 241\n",
      "JSON:  [{'pomid': 45886, 'phenomenon': {'phenomenonid': 'vehicle_ctrl', 'unit': 'bool'}, 'measurements': [{'lstamp': 1629128655255, 'value': '1'}, {'lstamp': 1629128654255, 'value': '0'}, {'lstamp': 1629128374632, 'value': '1'}, {'lstamp': 1629126963360, 'value': '0'}]}]\n",
      "http://172.18.176.1:3128 \"GET http://api.urbiotica.net/v2/organisms/org387236/projects/prj4dd9a3/spots/45887/phenomenons/vehicle_ctrl?start=1629126963&end=1629129234 HTTP/1.1\" 200 130\n",
      "JSON:  [{'pomid': 45887, 'phenomenon': {'phenomenonid': 'vehicle_ctrl', 'unit': 'bool'}, 'measurements': [{'lstamp': 1629126963432, 'value': '0'}]}]\n"
     ]
    }
   ],
   "metadata": {}
  },
  {
   "cell_type": "code",
   "execution_count": 10,
   "source": [
    "def rotate(iterators: List[Iterator[JsonDict]]):\n",
    "    \"\"\"Rotate a set of iterators yielding one item from each\"\"\"\n",
    "    iterables = [iter(item) for item in iterators]\n",
    "    while len(iterables) > 0:\n",
    "        depleted = False\n",
    "        for index, item in enumerate(iterables):\n",
    "            try:\n",
    "                entity = next(item)\n",
    "            except StopIteration:\n",
    "                iterables[index] = None\n",
    "                depleted = True\n",
    "            else:\n",
    "                yield entity\n",
    "        if depleted:\n",
    "            depleted = False\n",
    "            iterables = [item for item in iterables if item is not None]\n",
    "    \n",
    "\n",
    "cb.batch(session, rotate(iterators))"
   ],
   "outputs": [
    {
     "output_type": "error",
     "ename": "AttributeError",
     "evalue": "'SpotIterator' object has no attribute 'coord'",
     "traceback": [
      "\u001b[0;31m---------------------------------------------------------------------------\u001b[0m",
      "\u001b[0;31mAttributeError\u001b[0m                            Traceback (most recent call last)",
      "\u001b[0;32m<ipython-input-10-36203b103660>\u001b[0m in \u001b[0;36m<module>\u001b[0;34m\u001b[0m\n\u001b[1;32m     17\u001b[0m \u001b[0;34m\u001b[0m\u001b[0m\n\u001b[1;32m     18\u001b[0m \u001b[0;34m\u001b[0m\u001b[0m\n\u001b[0;32m---> 19\u001b[0;31m \u001b[0mcb\u001b[0m\u001b[0;34m.\u001b[0m\u001b[0mbatch\u001b[0m\u001b[0;34m(\u001b[0m\u001b[0msession\u001b[0m\u001b[0;34m,\u001b[0m \u001b[0mrotate\u001b[0m\u001b[0;34m(\u001b[0m\u001b[0miterators\u001b[0m\u001b[0;34m)\u001b[0m\u001b[0;34m)\u001b[0m\u001b[0;34m\u001b[0m\u001b[0;34m\u001b[0m\u001b[0m\n\u001b[0m",
      "\u001b[0;32m~/.local/lib/python3.8/site-packages/orion/__main__.py\u001b[0m in \u001b[0;36mbatch\u001b[0;34m(self, session, entities)\u001b[0m\n\u001b[1;32m    149\u001b[0m         \u001b[0;34m\"\"\"Perform batch entity update\"\"\"\u001b[0m\u001b[0;34m\u001b[0m\u001b[0;34m\u001b[0m\u001b[0m\n\u001b[1;32m    150\u001b[0m         \u001b[0murl\u001b[0m \u001b[0;34m=\u001b[0m \u001b[0;34mf\"{self.orionURL}/v2/op/update\"\u001b[0m\u001b[0;34m\u001b[0m\u001b[0;34m\u001b[0m\u001b[0m\n\u001b[0;32m--> 151\u001b[0;31m         \u001b[0;32mfor\u001b[0m \u001b[0mbatch\u001b[0m \u001b[0;32min\u001b[0m \u001b[0mself\u001b[0m\u001b[0;34m.\u001b[0m\u001b[0msplitBatches\u001b[0m\u001b[0;34m(\u001b[0m\u001b[0mentities\u001b[0m\u001b[0;34m)\u001b[0m\u001b[0;34m:\u001b[0m\u001b[0;34m\u001b[0m\u001b[0;34m\u001b[0m\u001b[0m\n\u001b[0m\u001b[1;32m    152\u001b[0m             body = {\n\u001b[1;32m    153\u001b[0m                 \u001b[0;34m\"actionType\"\u001b[0m\u001b[0;34m:\u001b[0m \u001b[0;34m\"APPEND\"\u001b[0m\u001b[0;34m,\u001b[0m\u001b[0;34m\u001b[0m\u001b[0;34m\u001b[0m\u001b[0m\n",
      "\u001b[0;32m~/.local/lib/python3.8/site-packages/orion/__main__.py\u001b[0m in \u001b[0;36msplitBatches\u001b[0;34m(self, entities)\u001b[0m\n\u001b[1;32m    133\u001b[0m         \u001b[0mnewBatch\u001b[0m\u001b[0;34m:\u001b[0m \u001b[0mList\u001b[0m\u001b[0;34m[\u001b[0m\u001b[0mAny\u001b[0m\u001b[0;34m]\u001b[0m \u001b[0;34m=\u001b[0m \u001b[0mlist\u001b[0m\u001b[0;34m(\u001b[0m\u001b[0;34m)\u001b[0m\u001b[0;34m\u001b[0m\u001b[0;34m\u001b[0m\u001b[0m\n\u001b[1;32m    134\u001b[0m         \u001b[0mhits\u001b[0m\u001b[0;34m:\u001b[0m \u001b[0mSet\u001b[0m\u001b[0;34m[\u001b[0m\u001b[0mstr\u001b[0m\u001b[0;34m]\u001b[0m \u001b[0;34m=\u001b[0m \u001b[0mset\u001b[0m\u001b[0;34m(\u001b[0m\u001b[0;34m)\u001b[0m\u001b[0;34m\u001b[0m\u001b[0;34m\u001b[0m\u001b[0m\n\u001b[0;32m--> 135\u001b[0;31m         \u001b[0;32mfor\u001b[0m \u001b[0mitem\u001b[0m \u001b[0;32min\u001b[0m \u001b[0mentities\u001b[0m\u001b[0;34m:\u001b[0m\u001b[0;34m\u001b[0m\u001b[0;34m\u001b[0m\u001b[0m\n\u001b[0m\u001b[1;32m    136\u001b[0m             \u001b[0mitemID\u001b[0m \u001b[0;34m=\u001b[0m \u001b[0mitem\u001b[0m\u001b[0;34m[\u001b[0m\u001b[0;34m'id'\u001b[0m\u001b[0;34m]\u001b[0m\u001b[0;34m\u001b[0m\u001b[0;34m\u001b[0m\u001b[0m\n\u001b[1;32m    137\u001b[0m             \u001b[0;31m# Avoid repeating item IDs in a single batch\u001b[0m\u001b[0;34m\u001b[0m\u001b[0;34m\u001b[0m\u001b[0;34m\u001b[0m\u001b[0m\n",
      "\u001b[0;32m<ipython-input-10-36203b103660>\u001b[0m in \u001b[0;36mrotate\u001b[0;34m(iterators)\u001b[0m\n\u001b[1;32m      6\u001b[0m         \u001b[0;32mfor\u001b[0m \u001b[0mindex\u001b[0m\u001b[0;34m,\u001b[0m \u001b[0mitem\u001b[0m \u001b[0;32min\u001b[0m \u001b[0menumerate\u001b[0m\u001b[0;34m(\u001b[0m\u001b[0miterables\u001b[0m\u001b[0;34m)\u001b[0m\u001b[0;34m:\u001b[0m\u001b[0;34m\u001b[0m\u001b[0;34m\u001b[0m\u001b[0m\n\u001b[1;32m      7\u001b[0m             \u001b[0;32mtry\u001b[0m\u001b[0;34m:\u001b[0m\u001b[0;34m\u001b[0m\u001b[0;34m\u001b[0m\u001b[0m\n\u001b[0;32m----> 8\u001b[0;31m                 \u001b[0mentity\u001b[0m \u001b[0;34m=\u001b[0m \u001b[0mnext\u001b[0m\u001b[0;34m(\u001b[0m\u001b[0mitem\u001b[0m\u001b[0;34m)\u001b[0m\u001b[0;34m\u001b[0m\u001b[0;34m\u001b[0m\u001b[0m\n\u001b[0m\u001b[1;32m      9\u001b[0m             \u001b[0;32mexcept\u001b[0m \u001b[0mStopIteration\u001b[0m\u001b[0;34m:\u001b[0m\u001b[0;34m\u001b[0m\u001b[0;34m\u001b[0m\u001b[0m\n\u001b[1;32m     10\u001b[0m                 \u001b[0miterables\u001b[0m\u001b[0;34m[\u001b[0m\u001b[0mindex\u001b[0m\u001b[0;34m]\u001b[0m \u001b[0;34m=\u001b[0m \u001b[0;32mNone\u001b[0m\u001b[0;34m\u001b[0m\u001b[0;34m\u001b[0m\u001b[0m\n",
      "\u001b[0;32m<ipython-input-7-369e0b692faa>\u001b[0m in \u001b[0;36m__iter__\u001b[0;34m(self)\u001b[0m\n\u001b[1;32m     82\u001b[0m                             \u001b[0;34m'type'\u001b[0m\u001b[0;34m:\u001b[0m \u001b[0;34m'Point'\u001b[0m\u001b[0;34m,\u001b[0m\u001b[0;34m\u001b[0m\u001b[0;34m\u001b[0m\u001b[0m\n\u001b[1;32m     83\u001b[0m                             \u001b[0;31m# HACK: Urbo coordinate system is \"swapped\"\u001b[0m\u001b[0;34m\u001b[0m\u001b[0;34m\u001b[0m\u001b[0;34m\u001b[0m\u001b[0m\n\u001b[0;32m---> 84\u001b[0;31m                             \u001b[0;34m'coordinates'\u001b[0m\u001b[0;34m:\u001b[0m \u001b[0;34m[\u001b[0m\u001b[0mself\u001b[0m\u001b[0;34m.\u001b[0m\u001b[0mcoords\u001b[0m\u001b[0;34m[\u001b[0m\u001b[0;36m1\u001b[0m\u001b[0;34m]\u001b[0m\u001b[0;34m,\u001b[0m \u001b[0mself\u001b[0m\u001b[0;34m.\u001b[0m\u001b[0mcoord\u001b[0m\u001b[0;34m[\u001b[0m\u001b[0;36m0\u001b[0m\u001b[0;34m]\u001b[0m\u001b[0;34m]\u001b[0m\u001b[0;34m\u001b[0m\u001b[0;34m\u001b[0m\u001b[0m\n\u001b[0m\u001b[1;32m     85\u001b[0m                         }\n\u001b[1;32m     86\u001b[0m                     },\n",
      "\u001b[0;31mAttributeError\u001b[0m: 'SpotIterator' object has no attribute 'coord'"
     ]
    }
   ],
   "metadata": {}
  },
  {
   "cell_type": "code",
   "execution_count": 88,
   "source": [
    "entities = list()\n",
    "for zoneid, zone in all_zones.items():\n",
    "    zone_poms = poms_by_zone[zoneid]\n",
    "    entities.append(zone_to_entity(zone, zone_poms))\n",
    "\n",
    "cb.batch(session, entities)"
   ],
   "outputs": [
    {
     "output_type": "stream",
     "name": "stdout",
     "text": [
      "https://cb.iotplatform.telefonica.com:10027 \"POST /v2/op/update HTTP/1.1\" 204 0\n",
      "https://cb.iotplatform.telefonica.com:10027 \"POST /v2/op/update HTTP/1.1\" 204 0\n"
     ]
    }
   ],
   "metadata": {}
  }
 ],
 "metadata": {
  "interpreter": {
   "hash": "31f2aee4e71d21fbe5cf8b01ff0e069b9275f58929596ceb00d14d90e3e16cd6"
  },
  "kernelspec": {
   "name": "python3",
   "display_name": "Python 3.8.5 64-bit"
  },
  "language_info": {
   "codemirror_mode": {
    "name": "ipython",
    "version": 3
   },
   "file_extension": ".py",
   "mimetype": "text/x-python",
   "name": "python",
   "nbconvert_exporter": "python",
   "pygments_lexer": "ipython3",
   "version": "3.8.5"
  },
  "metadata": {
   "interpreter": {
    "hash": "31f2aee4e71d21fbe5cf8b01ff0e069b9275f58929596ceb00d14d90e3e16cd6"
   }
  },
  "orig_nbformat": 2
 },
 "nbformat": 4,
 "nbformat_minor": 2
}