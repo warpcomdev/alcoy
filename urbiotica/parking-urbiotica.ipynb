{
 "cells": [
  {
   "cell_type": "code",
   "execution_count": null,
   "source": [
    "%pip install requests\n",
    "%pip install attrs\n",
    "%pip install python-dotenv\n",
    "%pip install shapely\n",
    "%pip install ipyleaflet\n",
    "%pip install limiter"
   ],
   "outputs": [],
   "metadata": {}
  },
  {
   "cell_type": "code",
   "execution_count": 8,
   "source": [
    "import configargparse\n",
    "\n",
    "env = dict()\n",
    "with open(\"urbiotica.ini\", \"r\", encoding=\"utf-8\") as infile:\n",
    "    for line in infile.readlines():\n",
    "        line = line.strip()\n",
    "        if line:\n",
    "            key, val = [x.strip() for x in line.split(\"=\")]\n",
    "            key = key.replace(\"-\", \"_\").upper()\n",
    "            env[key] = val\n",
    "\n",
    "env.keys()"
   ],
   "outputs": [
    {
     "output_type": "execute_result",
     "data": {
      "text/plain": [
       "dict_keys(['API_ORGANISM', 'API_USERNAME', 'API_PASSWORD', 'ORION_USERNAME', 'ORION_PASSWORD', 'ORION_SERVICE', 'ORION_SUBSERVICE', 'API_URL', 'KEYSTONE_URL', 'ORION_URL'])"
      ]
     },
     "metadata": {},
     "execution_count": 8
    }
   ],
   "metadata": {}
  },
  {
   "cell_type": "code",
   "execution_count": 9,
   "source": [
    "from datetime import datetime, timedelta, timezone\n",
    "from operator import itemgetter, attrgetter\n",
    "from typing import Dict, Mapping, Any, List, Generator, Iterator\n",
    "import math\n",
    "\n",
    "import attr\n",
    "from limiter import Limiter, get_limiter, limit_rate\n",
    "from orion import Session, ContextBroker\n",
    "\n",
    "JsonDict = Dict[str, Any]\n",
    "JsonList = List[JsonDict]\n",
    "\n",
    "@attr.s(auto_attribs=True)\n",
    "class Api(object):\n",
    "\n",
    "    endpoint: str\n",
    "    organism: str\n",
    "    token: str\n",
    "    bucket: Limiter\n",
    "\n",
    "    @classmethod\n",
    "    def login(cls, session: Session, endpoint: str, organism: str, username: str, password: str):\n",
    "        # API is rate limited to 100 requests per minute\n",
    "        bucket = get_limiter(rate = 100.0/60.0, capacity=100)\n",
    "        with limit_rate(bucket):\n",
    "            auth = session.get(f'{endpoint}/v2/auth/{organism}/{username}/{password}')\n",
    "        if auth.status_code != 200:\n",
    "            raise ValueError('Invalid username of password')\n",
    "        return cls(endpoint, organism, auth.text.strip('\"'), bucket)\n",
    "\n",
    "    def projects(self, session: Session) -> Dict[str, 'Project']:\n",
    "        url = f'{self.endpoint}/v2/organisms/{self.organism}/projects'\n",
    "        with limit_rate(self.bucket):\n",
    "            prj = session.get(url, headers={ 'IDENTITY_KEY': self.token })\n",
    "        if prj.status_code != 200:\n",
    "            raise ValueError(f'Failed to retrieve projects for organism {self.organism}')\n",
    "        return { item['projectid']: Project.new(self, item) for item in prj.json() }\n",
    "\n",
    "    def _query(self, session: Session, projectid: str, path: str, attrib: str, debug=False) -> JsonDict:\n",
    "        url = f'{self.endpoint}/v2/organisms/{self.organism}/projects/{projectid}/{path}'\n",
    "        with limit_rate(self.bucket):\n",
    "            its = session.get(url, headers={ 'IDENTITY_KEY': self.token })\n",
    "        if its.status_code != 200:\n",
    "            raise ValueError(f'Failed to retrieve {path} for project {projectid}')\n",
    "        if debug:\n",
    "            print(\"JSON: \", its.json())\n",
    "        return { item[attrib]: item for item in its.json() }\n",
    "\n",
    "\n",
    "@attr.s(auto_attribs=True)\n",
    "class Project(object):\n",
    "\n",
    "    api: Api\n",
    "    projectid: str\n",
    "    name: str\n",
    "    description: str\n",
    "    timezone: str\n",
    "\n",
    "    @classmethod\n",
    "    def new(cls, api: Api, project: JsonDict):\n",
    "        return cls(api, project['projectid'], project['name'], project['description'], project['timezone'])\n",
    "\n",
    "    def parkings(self, session: Session) -> JsonDict:\n",
    "        return self.api._query(session, self.projectid, 'parkings', 'pomid')\n",
    "    \n",
    "    def zones(self, session: Session) -> JsonDict:\n",
    "        return self.api._query(session, self.projectid, 'zones', 'zoneid')\n",
    "    \n",
    "    def spots(self, session: Session) -> JsonDict:\n",
    "        return self.api._query(session, self.projectid, 'spots', 'pomid')\n",
    "\n",
    "    def devices(self, session: Session, zoneid: str) -> JsonDict:\n",
    "        return self.api._query(session, self.projectid, f'zones/{zoneid}/devices', 'elementid')\n",
    "\n",
    "    def rotations(self, session: Session, pomid: str, from_dt: datetime, to_dt: datetime) -> JsonList:\n",
    "        fromiso = datetime.isoformat(from_dt.replace(microsecond=0))\n",
    "        toiso = datetime.isoformat(to_dt.replace(microsecond=0))\n",
    "        result = dict()\n",
    "        poms = self.api._query(session, self.projectid, f'spots/{pomid}/rotations/finished/{fromiso}/{toiso}', 'pomid')\n",
    "        rotations = list(itertools.chain(*(({\n",
    "            'pomid': pom['pomid'],\n",
    "            'start': datetime.fromisoformat(item['start']),\n",
    "            'end': datetime.fromisoformat(item['end'])\n",
    "        } for item in pom['rotations']) for pom in poms.values())))\n",
    "        return Project._sortby(rotations, 'start')\n",
    "\n",
    "    def vehicles(self, session: Session, pomid: str, from_dt: datetime, to_dt: datetime) -> JsonList:\n",
    "        fromts = math.floor(from_dt.timestamp())\n",
    "        tots = math.ceil(to_dt.timestamp())+1\n",
    "        result = dict()\n",
    "        poms = self.api._query(session, self.projectid, f'spots/{pomid}/phenomenons/vehicle_ctrl?start={fromts}&end={tots}', 'pomid', True)\n",
    "        #poms = self.api._query(self.projectid, f'spots/{pomid}/phenomenons/vehicle_ctrl', 'pomid', True)\n",
    "        measurements = list(itertools.chain(*(({\n",
    "            'pomid': pom['pomid'],\n",
    "            'lstamp': datetime.fromtimestamp(int(item['lstamp']) // 1000, tz=timezone.utc),\n",
    "            'value': item['value']\n",
    "        } for item in pom['measurements']) for pom in poms.values())))\n",
    "        return Project._sortby(measurements, 'lstamp')\n",
    "\n",
    "    @staticmethod\n",
    "    def _sortby(items: JsonList, field: str) -> JsonList:\n",
    "        items.sort(key=itemgetter(field))\n",
    "        return items\n"
   ],
   "outputs": [],
   "metadata": {}
  },
  {
   "cell_type": "code",
   "execution_count": 11,
   "source": [
    "session = Session()\n",
    "api = Api.login(session, env['API_URL'], env['API_ORGANISM'], env['API_USERNAME'], env['API_PASSWORD'])\n",
    "api.token"
   ],
   "outputs": [
    {
     "output_type": "execute_result",
     "data": {
      "text/plain": [
       "'HtjctFXRrYEquJccsTuVVWeq0UfSRwNnapTDIfoLJAzh3XvX5fBeDvuGOvm5eSbB'"
      ]
     },
     "metadata": {},
     "execution_count": 11
    }
   ],
   "metadata": {}
  },
  {
   "cell_type": "code",
   "execution_count": 5,
   "source": [
    "from collections import defaultdict\n",
    "import itertools\n",
    "\n",
    "@attr.s(auto_attribs=True)\n",
    "class Timestamp(object):\n",
    "\n",
    "    date: datetime\n",
    "    events: List[str]\n",
    "\n",
    "    @classmethod\n",
    "    def new(cls, date: datetime, events: List[str]):\n",
    "        return cls(date, events)\n",
    "    \n",
    "    def __str__(self) -> str:\n",
    "        return \"\\n\".join(itertools.chain(\n",
    "            (self.date.isoformat(),),\n",
    "            (f'  {event}' for event in self.events)\n",
    "        ))\n",
    "\n",
    "@attr.s(auto_attribs=True)\n",
    "class Timeline(object):\n",
    "\n",
    "    events: JsonList\n",
    "\n",
    "    @classmethod\n",
    "    def new(cls, rotations: JsonList, vehicles: JsonList):\n",
    "        events: Dictionary[datetime, List[str]] = defaultdict(list)\n",
    "        estados = {\n",
    "            '0': 'ocupada',\n",
    "            '1': 'libre',\n",
    "            '-1': 'en estado desconocido',\n",
    "        }\n",
    "        for rotation in rotations:\n",
    "            events[rotation['start']].append(\"Comienza rotacion\")\n",
    "            events[rotation['end']].append(\"Termina rotacion de las %s\" % rotation['start'])\n",
    "        for vehicle in vehicles:\n",
    "            value = vehicle['value']\n",
    "            events[vehicle['lstamp']].append('Plaza %s (%s)' % (estados[value], value))\n",
    "        stamps = [ Timestamp.new(date, info) for date, info in events.items() ]\n",
    "        stamps.sort(key=attrgetter('date'))\n",
    "        return cls(stamps)\n",
    "    \n",
    "    def __str__(self) -> str:\n",
    "        return \"\\n\".join(str(event) for event in self.events)\n"
   ],
   "outputs": [],
   "metadata": {}
  },
  {
   "cell_type": "code",
   "execution_count": null,
   "source": [
    "for prjid, prj in api.projects(session).items():\n",
    "    for pomid, superpom in prj.parkings(session).items():\n",
    "        for pom in superpom['poms']:\n",
    "            now = datetime.now()\n",
    "            bef = now - timedelta(days=1)\n",
    "            rots = prj.rotations(session, pom['pomid'], bef, now)\n",
    "            vehi = prj.vehicles(session, pom['pomid'], bef, now)\n",
    "            print(vehi)\n",
    "            ts = Timeline.new(rots, vehi)\n",
    "            print(str(ts))\n",
    "            break\n",
    "        break\n",
    "    break\n"
   ],
   "outputs": [],
   "metadata": {
    "tags": []
   }
  },
  {
   "cell_type": "code",
   "execution_count": 12,
   "source": [
    "projects = api.projects(session)"
   ],
   "outputs": [],
   "metadata": {}
  },
  {
   "cell_type": "code",
   "execution_count": 13,
   "source": [
    "project0 = projects[tuple(projects.keys())[0]]"
   ],
   "outputs": [],
   "metadata": {}
  },
  {
   "cell_type": "code",
   "execution_count": 14,
   "source": [
    "import itertools\n",
    "\n",
    "parkings = project0.parkings(session)\n",
    "subpoms = [[pom['pomid'] for pom in parking['poms']] for parking in parkings.values()]\n",
    "parking_spots = frozenset(itertools.chain(*subpoms))\n",
    "parking_by_pom = dict()\n",
    "for parking in parkings.values():\n",
    "    for pom in parking['poms']:\n",
    "        parking_by_pom[pom['pomid']] = parking\n",
    "print(\"PARKINGS - SPOTS: \", parking_spots)"
   ],
   "outputs": [
    {
     "output_type": "stream",
     "name": "stdout",
     "text": [
      "PARKINGS - SPOTS:  frozenset({45866, 45867, 45868, 45869, 45870, 45871, 45872, 45873, 45874, 45875, 45876, 45877, 45878, 45879, 45880, 45881, 45882, 45883, 45884, 45885, 45886, 45887, 45888, 45889, 45890, 45891})\n"
     ]
    }
   ],
   "metadata": {}
  },
  {
   "cell_type": "code",
   "execution_count": 15,
   "source": [
    "zones = project0.zones(session)\n",
    "print(\"ZONES:\", zones)\n"
   ],
   "outputs": [
    {
     "output_type": "stream",
     "name": "stdout",
     "text": [
      "ZONES: {733: {'organismid': 'org387236', 'projectid': 'prj4dd9a3', 'zoneid': 733, 'description': 'CyD', 'lat_ne': 38.7057482126756, 'long_ne': -0.475437696205967, 'lat_sw': 38.6986483951214, 'long_sw': -0.482798040859641, 'epsg': '4326', 'image': 'prj4dd9a3_733.jpg', 'main_zone': False}}\n"
     ]
    }
   ],
   "metadata": {}
  },
  {
   "cell_type": "code",
   "execution_count": 16,
   "source": [
    "zone0 = zones[tuple(zones.keys())[0]]\n",
    "zone0"
   ],
   "outputs": [
    {
     "output_type": "execute_result",
     "data": {
      "text/plain": [
       "{'organismid': 'org387236',\n",
       " 'projectid': 'prj4dd9a3',\n",
       " 'zoneid': 733,\n",
       " 'description': 'CyD',\n",
       " 'lat_ne': 38.7057482126756,\n",
       " 'long_ne': -0.475437696205967,\n",
       " 'lat_sw': 38.6986483951214,\n",
       " 'long_sw': -0.482798040859641,\n",
       " 'epsg': '4326',\n",
       " 'image': 'prj4dd9a3_733.jpg',\n",
       " 'main_zone': False}"
      ]
     },
     "metadata": {},
     "execution_count": 16
    }
   ],
   "metadata": {}
  },
  {
   "cell_type": "code",
   "execution_count": 17,
   "source": [
    "devices = project0.devices(session, zone0['zoneid'])\n",
    "device_spots = frozenset(item['pomid'] for item in devices.values())\n",
    "print(\"DEVICES_POMS: \", device_spots)"
   ],
   "outputs": [
    {
     "output_type": "stream",
     "name": "stdout",
     "text": [
      "DEVICES_POMS:  frozenset({45866, 45867, 45868, 45869, 45870, 45871, 45872, 45873, 45874, 45875, 45876, 45877, 45878, 45879, 45880, 45881, 45882, 45883, 45884, 45885, 45886, 45887, 45888, 45889, 45890, 45891, 45892, 45893, 45894, 45895, 45896, 45897})\n"
     ]
    }
   ],
   "metadata": {}
  },
  {
   "cell_type": "code",
   "execution_count": 18,
   "source": [
    "spots = project0.spots(session)\n",
    "spot_ids = frozenset(item['pomid'] for item in spots.values())\n",
    "print(\"SPOTS:\", spot_ids)"
   ],
   "outputs": [
    {
     "output_type": "stream",
     "name": "stdout",
     "text": [
      "SPOTS: frozenset({45866, 45867, 45868, 45869, 45870, 45871, 45872, 45873, 45874, 45875, 45876, 45877, 45878, 45879, 45880, 45881, 45882, 45883, 45884, 45885, 45886, 45887, 45888, 45889, 45890, 45891})\n"
     ]
    }
   ],
   "metadata": {}
  },
  {
   "cell_type": "code",
   "execution_count": 19,
   "source": [
    "spot0 = spots[tuple(spots.keys())[0]]\n",
    "spot1 = spots[tuple(spots.keys())[1]]\n",
    "print(\"SPOT 0: \", spot0)\n",
    "print(\"SPOT 1: \", spot1)\n",
    "device0 = devices[spot0['elementid']]\n",
    "print(\"DEVICE 0\", device0)\n",
    "parking0 = parking_by_pom[spot0['pomid']]\n",
    "print(\"PARKING 0: \", parking0)"
   ],
   "outputs": [
    {
     "output_type": "stream",
     "name": "stdout",
     "text": [
      "SPOT 0:  {'pomid': 45888, 'name': 'S-23', 'type': 'uspot', 'latitude': '38.7039574713965', 'longitude': '-0.477023949799113', 'attributes': [{'attributeid': 'algorithm_status', 'value': '0', 'last_update': 1625472336556}], 'elementid': '0100001b2c0afad4', 'status_location': 2, 'entity': 'spots'}\n",
      "SPOT 1:  {'pomid': 45889, 'name': 'S-24', 'type': 'uspot', 'latitude': '38.7040458009425', 'longitude': '-0.476922383447501', 'attributes': [{'attributeid': 'algorithm_status', 'value': '0', 'last_update': 1625470049078}], 'elementid': '0100001b2b245fbf', 'status_location': 2, 'entity': 'spots'}\n",
      "DEVICE 0 {'organismid': 'org387236', 'projectid': 'prj4dd9a3', 'zoneid': 733, 'pomid': 45888, 'name': 'S-23', 'elementid': '0100001b2c0afad4', 'status': {'status': 'up', 'lastseen': 1629364248460}, 'type': 'uspot', 'attributes': [{'attributeid': 'algorithm_status', 'value': '0', 'last_update': 1625472336556}]}\n",
      "PARKING 0:  {'pomid': 45898, 'name': 'CyD', 'type': 'uspot', 'latitude': '38.7020857751693', 'longitude': '-0.479182096112105', 'attributes': [{'attributeid': 'max_capacity', 'value': '26', 'last_update': 0}], 'poms': [{'pomid': 45888, 'name': 'S-23', 'type': 'uspot', 'latitude': '38.7039574713965', 'longitude': '-0.477023949799113', 'attributes': [{'attributeid': 'algorithm_status', 'value': '0', 'last_update': 1625472336556}], 'elementid': '0100001b2c0afad4', 'status_location': 2, 'entity': 'spots'}, {'pomid': 45889, 'name': 'S-24', 'type': 'uspot', 'latitude': '38.7040458009425', 'longitude': '-0.476922383447501', 'attributes': [{'attributeid': 'algorithm_status', 'value': '0', 'last_update': 1625470049078}], 'elementid': '0100001b2b245fbf', 'status_location': 2, 'entity': 'spots'}, {'pomid': 45890, 'name': 'S-25', 'type': 'uspot', 'latitude': '38.7045028269765', 'longitude': '-0.476394933608962', 'attributes': [{'attributeid': 'algorithm_status', 'value': '0', 'last_update': 1625473779852}], 'elementid': '0100001b2baca12b', 'status_location': 2, 'entity': 'spots'}, {'pomid': 45891, 'name': 'S-26', 'type': 'uspot', 'latitude': '38.7045483233505', 'longitude': '-0.476342616685345', 'attributes': [{'attributeid': 'algorithm_status', 'value': '0', 'last_update': 1625471705547}], 'elementid': '0100001b2ba93ab0', 'status_location': 2, 'entity': 'spots'}, {'pomid': 45866, 'name': 'S-01', 'type': 'uspot', 'latitude': '38.699623226988', 'longitude': '-0.482021575538852', 'attributes': [{'attributeid': 'algorithm_status', 'value': '0', 'last_update': 1625471163521}], 'elementid': '0100001b2c0f2bf5', 'status_location': 2, 'entity': 'spots'}, {'pomid': 45867, 'name': 'S-02', 'type': 'uspot', 'latitude': '38.6996655785243', 'longitude': '-0.481972881817549', 'attributes': [{'attributeid': 'algorithm_status', 'value': '0', 'last_update': 1625475197755}], 'elementid': '0100001b2b471f95', 'status_location': 2, 'entity': 'spots'}, {'pomid': 45868, 'name': 'S-03', 'type': 'uspot', 'latitude': '38.6997079390165', 'longitude': '-0.481924186573697', 'attributes': [{'attributeid': 'algorithm_status', 'value': '0', 'last_update': 1625472208064}], 'elementid': '0100001b2c24b5df', 'status_location': 2, 'entity': 'spots'}, {'pomid': 45869, 'name': 'S-04', 'type': 'uspot', 'latitude': '38.6997590231559', 'longitude': '-0.481865552517785', 'attributes': [{'attributeid': 'algorithm_status', 'value': '0', 'last_update': 1625471365163}], 'elementid': '0100001b2b49eaae', 'status_location': 2, 'entity': 'spots'}, {'pomid': 45870, 'name': 'S-05', 'type': 'uspot', 'latitude': '38.6997976996308', 'longitude': '-0.481821088745381', 'attributes': [{'attributeid': 'algorithm_status', 'value': '0', 'last_update': 1625473678198}], 'elementid': '0100001b2b45e49c', 'status_location': 2, 'entity': 'spots'}, {'pomid': 45871, 'name': 'S-06', 'type': 'uspot', 'latitude': '38.6998365783307', 'longitude': '-0.481776393625468', 'attributes': [{'attributeid': 'algorithm_status', 'value': '0', 'last_update': 1625474882973}], 'elementid': '0100001b2b4da352', 'status_location': 2, 'entity': 'spots'}, {'pomid': 45872, 'name': 'S-07', 'type': 'uspot', 'latitude': '38.6998744879126', 'longitude': '-0.481732718955235', 'attributes': [{'attributeid': 'algorithm_status', 'value': '0', 'last_update': 1625470748259}], 'elementid': '0100001b2bfd5e25', 'status_location': 2, 'entity': 'spots'}, {'pomid': 45873, 'name': 'S-08', 'type': 'uspot', 'latitude': '38.7005222818808', 'longitude': '-0.480983981083665', 'attributes': [{'attributeid': 'algorithm_status', 'value': '0', 'last_update': 1625475254080}], 'elementid': '0100001b2c142784', 'status_location': 2, 'entity': 'spots'}, {'pomid': 45874, 'name': 'S-09', 'type': 'uspot', 'latitude': '38.7005557444634', 'longitude': '-0.480945517194455', 'attributes': [{'attributeid': 'algorithm_status', 'value': '0', 'last_update': 1625471164678}], 'elementid': '0100001b2bf9e9b8', 'status_location': 2, 'entity': 'spots'}, {'pomid': 45875, 'name': 'S-10', 'type': 'uspot', 'latitude': '38.7005891980041', 'longitude': '-0.480907052436327', 'attributes': [{'attributeid': 'algorithm_status', 'value': '0', 'last_update': 1625470340178}], 'elementid': '0100001b2c22bebb', 'status_location': 2, 'entity': 'spots'}, {'pomid': 45876, 'name': 'S-11', 'type': 'uspot', 'latitude': '38.7012650937665', 'longitude': '-0.480126811247066', 'attributes': [{'attributeid': 'algorithm_status', 'value': '0', 'last_update': 1625473537996}], 'elementid': '0100001b2c110d2f', 'status_location': 2, 'entity': 'spots'}, {'pomid': 45877, 'name': 'S-12', 'type': 'uspot', 'latitude': '38.701298547033', 'longitude': '-0.480088346872198', 'attributes': [{'attributeid': 'algorithm_status', 'value': '0', 'last_update': 1625470499623}], 'elementid': '0100001b2b434632', 'status_location': 2, 'entity': 'spots'}, {'pomid': 45878, 'name': 'S-13', 'type': 'uspot', 'latitude': '38.7013320002607', 'longitude': '-0.480049881312377', 'attributes': [{'attributeid': 'algorithm_status', 'value': '0', 'last_update': 1625474678905}], 'elementid': '0100001b2c0437a3', 'status_location': 2, 'entity': 'spots'}, {'pomid': 45879, 'name': 'S-14', 'type': 'uspot', 'latitude': '38.7025647427481', 'longitude': '-0.478628367975212', 'attributes': [{'attributeid': 'algorithm_status', 'value': '0', 'last_update': 1625472701426}], 'elementid': '0100001b2c06e156', 'status_location': 2, 'entity': 'spots'}, {'pomid': 45880, 'name': 'S-15', 'type': 'uspot', 'latitude': '38.7025981954426', 'longitude': '-0.478589901049265', 'attributes': [{'attributeid': 'algorithm_status', 'value': '0', 'last_update': 1625475326387}], 'elementid': '0100001b2b4c7002', 'status_location': 2, 'entity': 'spots'}, {'pomid': 45881, 'name': 'S-16', 'type': 'uspot', 'latitude': '38.7026316571509', 'longitude': '-0.478551434919845', 'attributes': [{'attributeid': 'algorithm_status', 'value': '0', 'last_update': 1625472874601}], 'elementid': '0100001b2c12c3ed', 'status_location': 2, 'entity': 'spots'}, {'pomid': 45882, 'name': 'S-17', 'type': 'uspot', 'latitude': '38.7029752900474', 'longitude': '-0.478155391321419', 'attributes': [{'attributeid': 'algorithm_status', 'value': '0', 'last_update': 1625471533218}], 'elementid': '0100001b2b79d351', 'status_location': 2, 'entity': 'spots'}, {'pomid': 45883, 'name': 'S-18', 'type': 'uspot', 'latitude': '38.7030087425939', 'longitude': '-0.478116925101623', 'attributes': [{'attributeid': 'algorithm_status', 'value': '0', 'last_update': 1625474720994}], 'elementid': '0100001b2b979e16', 'status_location': 2, 'entity': 'spots'}, {'pomid': 45884, 'name': 'S-19', 'type': 'uspot', 'latitude': '38.7030422041047', 'longitude': '-0.478078457380424', 'attributes': [{'attributeid': 'algorithm_status', 'value': '0', 'last_update': 1625473303982}], 'elementid': '0100001b2c03c005', 'status_location': 2, 'entity': 'spots'}, {'pomid': 45885, 'name': 'S-20', 'type': 'uspot', 'latitude': '38.7037705694468', 'longitude': '-0.477238845768122', 'attributes': [{'attributeid': 'algorithm_status', 'value': '0', 'last_update': 1625475394994}], 'elementid': '0100001b2b77294e', 'status_location': 2, 'entity': 'spots'}, {'pomid': 45886, 'name': 'S-21', 'type': 'uspot', 'latitude': '38.7038040306369', 'longitude': '-0.477200377224951', 'attributes': [{'attributeid': 'algorithm_status', 'value': '0', 'last_update': 1625471386889}], 'elementid': '0100001b2c00889f', 'status_location': 2, 'entity': 'spots'}, {'pomid': 45887, 'name': 'S-22', 'type': 'uspot', 'latitude': '38.7038374828346', 'longitude': '-0.477161910111211', 'attributes': [{'attributeid': 'algorithm_status', 'value': '0', 'last_update': 1625470575035}], 'elementid': '0100001b2b698234', 'status_location': 2, 'entity': 'spots'}], 'elementid': '', 'status_location': 2, 'entity': 'parkings'}\n"
     ]
    }
   ],
   "metadata": {}
  },
  {
   "cell_type": "code",
   "execution_count": 20,
   "source": [
    "from shapely.geometry import Polygon\n",
    "\n",
    "points = [[ float(pom['latitude']), float(pom['longitude'])] for pom in parking0['poms']]\n",
    "print(\"POINTS: \", points)\n",
    "hull = Polygon(points).buffer(0.0001).minimum_rotated_rectangle"
   ],
   "outputs": [
    {
     "output_type": "stream",
     "name": "stdout",
     "text": [
      "POINTS:  [[38.7039574713965, -0.477023949799113], [38.7040458009425, -0.476922383447501], [38.7045028269765, -0.476394933608962], [38.7045483233505, -0.476342616685345], [38.699623226988, -0.482021575538852], [38.6996655785243, -0.481972881817549], [38.6997079390165, -0.481924186573697], [38.6997590231559, -0.481865552517785], [38.6997976996308, -0.481821088745381], [38.6998365783307, -0.481776393625468], [38.6998744879126, -0.481732718955235], [38.7005222818808, -0.480983981083665], [38.7005557444634, -0.480945517194455], [38.7005891980041, -0.480907052436327], [38.7012650937665, -0.480126811247066], [38.701298547033, -0.480088346872198], [38.7013320002607, -0.480049881312377], [38.7025647427481, -0.478628367975212], [38.7025981954426, -0.478589901049265], [38.7026316571509, -0.478551434919845], [38.7029752900474, -0.478155391321419], [38.7030087425939, -0.478116925101623], [38.7030422041047, -0.478078457380424], [38.7037705694468, -0.477238845768122], [38.7038040306369, -0.477200377224951], [38.7038374828346, -0.477161910111211]]\n"
     ]
    }
   ],
   "metadata": {}
  },
  {
   "cell_type": "code",
   "execution_count": 82,
   "source": [
    "from ipyleaflet import Map, Marker, Polygon\n",
    "\n",
    "center = (float(parking0['latitude']), float(parking0['longitude']))\n",
    "\n",
    "m = Map(center=center, zoom=16)\n",
    "\n",
    "for point in points:\n",
    "    m.add_layer(Marker(location=point, draggable=True))\n",
    "\n",
    "\n",
    "area = Polygon(\n",
    "    locations=list(hull.exterior.coords),\n",
    "    color=\"green\",\n",
    "    fill_color=\"green\"\n",
    ")\n",
    "m.add_layer(area)\n",
    "\n",
    "display(m)"
   ],
   "outputs": [
    {
     "output_type": "display_data",
     "data": {
      "text/plain": [
       "Map(center=[38.7020857751693, -0.479182096112105], controls=(ZoomControl(options=['position', 'zoom_in_text', …"
      ],
      "application/vnd.jupyter.widget-view+json": {
       "version_major": 2,
       "version_minor": 0,
       "model_id": "c312069d4720474caf8e36711b9733c4"
      }
     },
     "metadata": {}
    }
   ],
   "metadata": {}
  },
  {
   "cell_type": "code",
   "execution_count": 21,
   "source": [
    "keystoneURL = env[\"KEYSTONE_URL\"]\n",
    "orionURL = env[\"ORION_URL\"]\n",
    "service = env[\"ORION_SERVICE\"]\n",
    "subservice = env[\"ORION_SUBSERVICE\"]\n",
    "username = env[\"ORION_USERNAME\"]\n",
    "password = env[\"ORION_PASSWORD\"]\n",
    "\n",
    "import logging\n",
    "import sys \n",
    "\n",
    "root = logging.getLogger()\n",
    "root.setLevel(logging.DEBUG)\n",
    "handler = logging.StreamHandler(sys.stdout)\n",
    "handler.setLevel(logging.DEBUG)\n",
    "root.addHandler(handler)\n",
    "\n",
    "session = Session()\n",
    "logging.info(\"Authenticating to url %s, service %s, username %s\", keystoneURL, service, username)\n",
    "cb = ContextBroker(\n",
    "    keystoneURL=keystoneURL,\n",
    "    orionURL=orionURL,\n",
    "    service=service,\n",
    "    subservice=subservice)\n",
    "cb.auth(session, username, password)\n"
   ],
   "outputs": [
    {
     "output_type": "stream",
     "name": "stdout",
     "text": [
      "Authenticating to url https://auth.iotplatform.telefonica.com:15001, service sc_alcoi_int, username alcoi_int_admin\n",
      "Starting new HTTPS connection (1): auth.iotplatform.telefonica.com:15001\n",
      "https://auth.iotplatform.telefonica.com:15001 \"POST /v3/auth/tokens HTTP/1.1\" 201 1712\n"
     ]
    }
   ],
   "metadata": {}
  },
  {
   "cell_type": "code",
   "execution_count": 12,
   "source": [
    "cb.batch(session, [{'id': 'pomid:45891', 'type': 'ParkingSpot', 'occupied': {'type': 'Number', 'value':None}}])"
   ],
   "outputs": [
    {
     "output_type": "stream",
     "name": "stdout",
     "text": [
      "Starting new HTTPS connection (1): cb.iotplatform.telefonica.com:10027\n",
      "Starting new HTTPS connection (1): cb.iotplatform.telefonica.com:10027\n",
      "https://cb.iotplatform.telefonica.com:10027 \"POST /v2/op/update HTTP/1.1\" 204 0\n",
      "https://cb.iotplatform.telefonica.com:10027 \"POST /v2/op/update HTTP/1.1\" 204 0\n"
     ]
    }
   ],
   "metadata": {}
  },
  {
   "cell_type": "code",
   "execution_count": 7,
   "source": [
    "@attr.s(auto_attribs=True)\n",
    "class SpotIterator(object):\n",
    "\n",
    "    # IDs of POM, device and zone\n",
    "    pomid: int\n",
    "    deviceid: str\n",
    "    zoneid: str\n",
    "\n",
    "    # Orion entity IDs\n",
    "    entityid: str\n",
    "    deviceentityid: str\n",
    "    zoneentityid: str\n",
    "\n",
    "    # Other attributes of spot\n",
    "    name: str\n",
    "    coords: List[float]\n",
    "\n",
    "    # Time range and events in that range\n",
    "    from_ts: datetime\n",
    "    to_ts: datetime\n",
    "    events: JsonList\n",
    "\n",
    "    @classmethod\n",
    "    def collect(cls, session: Session, project: Project, cb: ContextBroker, pom: JsonDict, device: JsonDict, to_ts: datetime):\n",
    "        \"\"\"Collect vehicle_ctrl events for the given pomid between most recent update, and to_ts\"\"\"\n",
    "        pomid = pom['pomid']\n",
    "        name = pom['name']\n",
    "        logging.info(\"Collecting vehicle_ctrl events from pom %s (id %d)\", name, pomid)\n",
    "        deviceid = device['elementid']\n",
    "        zoneid = device['zoneid']\n",
    "        coords = [float(pom['latitude']), float(pom['longitude'])]\n",
    "        entityid = f'pomid:{pomid}'\n",
    "        deviceentityid = f'elementid:{deviceid}'\n",
    "        zoneentityid = f'zoneid:{zoneid}'\n",
    "        logging.info(f'Getting latest occupancyModified for entity {entityid}')\n",
    "        entity = cb.get(session, entityID=entityid, entityType=\"ParkingSpot\")\n",
    "        from_ts = to_ts - timedelta(days=1)\n",
    "        if entity is not None and 'occupancyModified' in entity:\n",
    "            from_ts = datetime.fromisoformat(entity['occupancyModified']['value'].replace('Z','+00:00'))\n",
    "        logging.info(f'Getting events for pomid {pomid} between {from_ts} and {to_ts}')\n",
    "        events = project.vehicles(session, pomid, from_ts, to_ts)\n",
    "        return cls(\n",
    "            pomid=pomid,name=name,deviceid=deviceid,zoneid=zoneid,coords=coords,entityid=entityid,deviceentityid=deviceentityid,zoneentityid=zoneentityid,from_ts=from_ts,to_ts=to_ts,events=events\n",
    "        )\n",
    "\n",
    "    def __iter__(self) -> Generator[JsonDict, None, None]:\n",
    "        \"\"\"Iterate on vehicle_ctrl events generating ParkingSpot entity updates\"\"\"\n",
    "        if self.events:\n",
    "            for event in self.events:\n",
    "                timeinstant = event['lstamp'].isoformat()\n",
    "                occupied = int(event['value'])\n",
    "                yield {\n",
    "                    'id': self.entityid,\n",
    "                    'type': 'ParkingSpot',\n",
    "                    'TimeInstant': {\n",
    "                        'type': 'DateTime',\n",
    "                        'value': timeinstant,\n",
    "                    },\n",
    "                    'occupancyModified': {\n",
    "                        'type': 'DateTime',\n",
    "                        'value': timeinstant,\n",
    "                    },\n",
    "                    'name': {\n",
    "                        'type': 'Text',\n",
    "                        'value': self.name\n",
    "                    },\n",
    "                    'status': {\n",
    "                        'type': 'Text',\n",
    "                        'value': 'free' if occupied == 0 else ('occupied' if occupied == 1 else 'unknown'),\n",
    "                    },\n",
    "                    'refOnStreetParking': {\n",
    "                        'type': 'Text',\n",
    "                        'value': self.zoneentityid\n",
    "                    },\n",
    "                    'refDevice': {\n",
    "                        'type': 'Text',\n",
    "                        'value': self.deviceentityid\n",
    "                    },\n",
    "                    'location': {\n",
    "                        'type': 'geo:json',\n",
    "                        'value': {\n",
    "                            'type': 'Point',\n",
    "                            # HACK: Urbo coordinate system is \"swapped\"\n",
    "                            'coordinates': [self.coords[1], self.coords[0]]\n",
    "                        }\n",
    "                    },\n",
    "                    'occupied': {\n",
    "                        'type': 'Number',\n",
    "                        'value': occupied if occupied >= 0 else None\n",
    "                    }\n",
    "                }\n"
   ],
   "outputs": [],
   "metadata": {}
  },
  {
   "cell_type": "code",
   "execution_count": 22,
   "source": [
    "from shapely.geometry import Polygon\n",
    "\n",
    "def zone_to_entity(zone: JsonDict, zone_poms: JsonDict):\n",
    "    \"\"\"Collect zone information for the given zone\"\"\"\n",
    "    zoneid = zone['zoneid']\n",
    "    name = zone['description']\n",
    "    location = [\n",
    "        (float(zone['lat_ne'])  + float(zone['lat_sw']))/2,\n",
    "        (float(zone['long_ne']) + float(zone['long_sw']))/2\n",
    "    ]\n",
    "    points = [[ float(pom['latitude']), float(pom['longitude'])] for pom in zone_poms]\n",
    "    area = Polygon(points).buffer(0.0001).minimum_rotated_rectangle.exterior.coords\n",
    "    return {\n",
    "        'id': f'zoneid:{zoneid}',\n",
    "        'type': 'OnStreetParking',\n",
    "        'name': {\n",
    "            'type': 'Text',\n",
    "            'value': name\n",
    "        },\n",
    "        'location': {\n",
    "            'type': 'geo:json',\n",
    "            'value': {\n",
    "                'type': 'Point',\n",
    "                # HACK: Urbo swaps latitude and longitude...\n",
    "                'coordinates': [location[1], location[0]]\n",
    "            }\n",
    "        },\n",
    "        'polygon': {\n",
    "            'type': 'geox:json',\n",
    "            'value': {\n",
    "                'type': 'Polygon',\n",
    "                # HACK: Urbo swaps latitude and longitude...\n",
    "                'coordinates': [[[item[1], item[0]] for item in area]]\n",
    "            }\n",
    "        },\n",
    "        'totalSpotNumber': {\n",
    "            'type': 'Number',\n",
    "            'value': len(zone_poms)\n",
    "        }\n",
    "    }\n"
   ],
   "outputs": [],
   "metadata": {}
  },
  {
   "cell_type": "code",
   "execution_count": 23,
   "source": [
    "from concurrent.futures import ThreadPoolExecutor\n",
    "from collections import defaultdict\n",
    "\n",
    "all_zones = dict()\n",
    "poms_by_zone = defaultdict(list)\n",
    "pom_params = list()\n",
    "now_ts = datetime.now()\n",
    "for project_id, project in api.projects(session).items():\n",
    "    zones = project.zones(session)\n",
    "    all_zones.update(zones)\n",
    "    devices = dict()\n",
    "    for zoneid, zone in zones.items():\n",
    "        devices.update(project.devices(session, zoneid))\n",
    "    for pomid, pom in project.spots(session).items():\n",
    "        poms_by_zone[devices[pom['elementid']]['zoneid']].append(pom)\n",
    "        pom_params.append({\n",
    "            'session': session,\n",
    "            'project': project,\n",
    "            'cb': cb,\n",
    "            'pom': pom,\n",
    "            'device': devices[pom['elementid']],\n",
    "            'to_ts': now_ts,\n",
    "        })"
   ],
   "outputs": [
    {
     "output_type": "stream",
     "name": "stdout",
     "text": [
      "Starting new HTTP connection (1): 172.18.176.1:3128\n",
      "http://172.18.176.1:3128 \"GET http://api.urbiotica.net/v2/organisms/org387236/projects HTTP/1.1\" 200 193\n",
      "http://172.18.176.1:3128 \"GET http://api.urbiotica.net/v2/organisms/org387236/projects/prj4dd9a3/zones HTTP/1.1\" 200 255\n",
      "http://172.18.176.1:3128 \"GET http://api.urbiotica.net/v2/organisms/org387236/projects/prj4dd9a3/zones/733/devices HTTP/1.1\" 200 8452\n",
      "http://172.18.176.1:3128 \"GET http://api.urbiotica.net/v2/organisms/org387236/projects/prj4dd9a3/spots HTTP/1.1\" 200 6915\n"
     ]
    }
   ],
   "metadata": {}
  },
  {
   "cell_type": "code",
   "execution_count": null,
   "source": [
    "with ThreadPoolExecutor(max_workers=8) as pool:\n",
    "    iterators = pool.map(lambda p: SpotIterator.collect(**p), pom_params)"
   ],
   "outputs": [],
   "metadata": {}
  },
  {
   "cell_type": "code",
   "execution_count": 24,
   "source": [
    "def rotate(iterators: List[Iterator[JsonDict]]):\n",
    "    \"\"\"Rotate a set of iterators yielding one item from each\"\"\"\n",
    "    iterables = [iter(item) for item in iterators]\n",
    "    while len(iterables) > 0:\n",
    "        depleted = False\n",
    "        for index, item in enumerate(iterables):\n",
    "            try:\n",
    "                entity = next(item)\n",
    "            except StopIteration:\n",
    "                iterables[index] = None\n",
    "                depleted = True\n",
    "            else:\n",
    "                yield entity\n",
    "        if depleted:\n",
    "            depleted = False\n",
    "            iterables = [item for item in iterables if item is not None]\n",
    "    \n",
    "\n",
    "cb.batch(session, rotate(iterators))"
   ],
   "outputs": [
    {
     "output_type": "error",
     "ename": "NameError",
     "evalue": "name 'iterators' is not defined",
     "traceback": [
      "\u001b[0;31m---------------------------------------------------------------------------\u001b[0m",
      "\u001b[0;31mNameError\u001b[0m                                 Traceback (most recent call last)",
      "\u001b[0;32m<ipython-input-24-36203b103660>\u001b[0m in \u001b[0;36m<module>\u001b[0;34m\u001b[0m\n\u001b[1;32m     17\u001b[0m \u001b[0;34m\u001b[0m\u001b[0m\n\u001b[1;32m     18\u001b[0m \u001b[0;34m\u001b[0m\u001b[0m\n\u001b[0;32m---> 19\u001b[0;31m \u001b[0mcb\u001b[0m\u001b[0;34m.\u001b[0m\u001b[0mbatch\u001b[0m\u001b[0;34m(\u001b[0m\u001b[0msession\u001b[0m\u001b[0;34m,\u001b[0m \u001b[0mrotate\u001b[0m\u001b[0;34m(\u001b[0m\u001b[0miterators\u001b[0m\u001b[0;34m)\u001b[0m\u001b[0;34m)\u001b[0m\u001b[0;34m\u001b[0m\u001b[0;34m\u001b[0m\u001b[0m\n\u001b[0m",
      "\u001b[0;31mNameError\u001b[0m: name 'iterators' is not defined"
     ]
    }
   ],
   "metadata": {}
  },
  {
   "cell_type": "code",
   "execution_count": 25,
   "source": [
    "entities = list()\n",
    "for zoneid, zone in all_zones.items():\n",
    "    zone_poms = poms_by_zone[zoneid]\n",
    "    entities.append(zone_to_entity(zone, zone_poms))\n",
    "\n",
    "cb.batch(session, entities)"
   ],
   "outputs": [
    {
     "output_type": "stream",
     "name": "stdout",
     "text": [
      "Starting new HTTPS connection (1): cb.iotplatform.telefonica.com:10027\n",
      "https://cb.iotplatform.telefonica.com:10027 \"POST /v2/op/update HTTP/1.1\" 204 0\n"
     ]
    }
   ],
   "metadata": {}
  }
 ],
 "metadata": {
  "interpreter": {
   "hash": "31f2aee4e71d21fbe5cf8b01ff0e069b9275f58929596ceb00d14d90e3e16cd6"
  },
  "kernelspec": {
   "name": "python3",
   "display_name": "Python 3.8.5 64-bit"
  },
  "language_info": {
   "codemirror_mode": {
    "name": "ipython",
    "version": 3
   },
   "file_extension": ".py",
   "mimetype": "text/x-python",
   "name": "python",
   "nbconvert_exporter": "python",
   "pygments_lexer": "ipython3",
   "version": "3.8.5"
  },
  "metadata": {
   "interpreter": {
    "hash": "31f2aee4e71d21fbe5cf8b01ff0e069b9275f58929596ceb00d14d90e3e16cd6"
   }
  },
  "orig_nbformat": 2
 },
 "nbformat": 4,
 "nbformat_minor": 2
}